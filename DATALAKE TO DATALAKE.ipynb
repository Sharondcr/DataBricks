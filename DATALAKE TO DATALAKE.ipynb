{
 "cells": [
  {
   "cell_type": "code",
   "execution_count": 0,
   "metadata": {
    "application/vnd.databricks.v1+cell": {
     "cellMetadata": {
      "byteLimit": 2048000,
      "rowLimit": 10000
     },
     "inputWidgets": {},
     "nuid": "8c6c24a0-571b-4412-96e6-118d7f7b4a0c",
     "showTitle": false,
     "title": ""
    }
   },
   "outputs": [
    {
     "output_type": "display_data",
     "data": {
      "text/html": [
       "<style scoped>\n",
       "  .table-result-container {\n",
       "    max-height: 300px;\n",
       "    overflow: auto;\n",
       "  }\n",
       "  table, th, td {\n",
       "    border: 1px solid black;\n",
       "    border-collapse: collapse;\n",
       "  }\n",
       "  th, td {\n",
       "    padding: 5px;\n",
       "  }\n",
       "  th {\n",
       "    text-align: left;\n",
       "  }\n",
       "</style><div class='table-result-container'><table class='table-result'><thead style='background-color: white'><tr><th>productID</th><th>ProductName</th><th>Category</th><th>ListPrice</th></tr></thead><tbody><tr><td>771</td><td>Mountain-100 Silver, 38</td><td>Mountain Bikes</td><td>3399.99</td></tr><tr><td>772</td><td>Mountain-100 Silver, 42</td><td>Mountain Bikes</td><td>3399.99</td></tr><tr><td>773</td><td>Mountain-100 Silver, 44</td><td>Mountain Bikes</td><td>3399.99</td></tr><tr><td>774</td><td>Mountain-100 Silver, 48</td><td>Mountain Bikes</td><td>3399.99</td></tr><tr><td>775</td><td>Mountain-100 Black, 38</td><td>Mountain Bikes</td><td>3374.99</td></tr><tr><td>776</td><td>Mountain-100 Black, 42</td><td>Mountain Bikes</td><td>3374.99</td></tr><tr><td>777</td><td>Mountain-100 Black, 44</td><td>Mountain Bikes</td><td>3374.99</td></tr><tr><td>778</td><td>Mountain-100 Black, 48</td><td>Mountain Bikes</td><td>3374.99</td></tr><tr><td>779</td><td>Mountain-200 Silver, 38</td><td>Mountain Bikes</td><td>2319.99</td></tr><tr><td>780</td><td>Mountain-200 Silver, 42</td><td>Mountain Bikes</td><td>2319.99</td></tr><tr><td>781</td><td>Mountain-200 Silver, 46</td><td>Mountain Bikes</td><td>2319.99</td></tr><tr><td>782</td><td>Mountain-200 Black, 38</td><td>Mountain Bikes</td><td>2294.99</td></tr><tr><td>783</td><td>Mountain-200 Black, 42</td><td>Mountain Bikes</td><td>2294.99</td></tr><tr><td>784</td><td>Mountain-200 Black, 46</td><td>Mountain Bikes</td><td>2294.99</td></tr><tr><td>785</td><td>Mountain-300 Black, 38</td><td>Mountain Bikes</td><td>1079.99</td></tr><tr><td>786</td><td>Mountain-300 Black, 40</td><td>Mountain Bikes</td><td>1079.99</td></tr><tr><td>787</td><td>Mountain-300 Black, 44</td><td>Mountain Bikes</td><td>1079.99</td></tr><tr><td>788</td><td>Mountain-300 Black, 48</td><td>Mountain Bikes</td><td>1079.99</td></tr><tr><td>980</td><td>Mountain-400-W Silver, 38</td><td>Mountain Bikes</td><td>769.49</td></tr><tr><td>981</td><td>Mountain-400-W Silver, 40</td><td>Mountain Bikes</td><td>769.49</td></tr><tr><td>982</td><td>Mountain-400-W Silver, 42</td><td>Mountain Bikes</td><td>769.49</td></tr><tr><td>983</td><td>Mountain-400-W Silver, 46</td><td>Mountain Bikes</td><td>769.49</td></tr><tr><td>984</td><td>Mountain-500 Silver, 40</td><td>Mountain Bikes</td><td>564.99</td></tr><tr><td>985</td><td>Mountain-500 Silver, 42</td><td>Mountain Bikes</td><td>564.99</td></tr><tr><td>986</td><td>Mountain-500 Silver, 44</td><td>Mountain Bikes</td><td>564.99</td></tr><tr><td>987</td><td>Mountain-500 Silver, 48</td><td>Mountain Bikes</td><td>564.99</td></tr><tr><td>988</td><td>Mountain-500 Silver, 52</td><td>Mountain Bikes</td><td>564.99</td></tr><tr><td>989</td><td>Mountain-500 Black, 40</td><td>Mountain Bikes</td><td>539.99</td></tr><tr><td>990</td><td>Mountain-500 Black, 42</td><td>Mountain Bikes</td><td>539.99</td></tr><tr><td>991</td><td>Mountain-500 Black, 44</td><td>Mountain Bikes</td><td>539.99</td></tr><tr><td>992</td><td>Mountain-500 Black, 48</td><td>Mountain Bikes</td><td>539.99</td></tr><tr><td>993</td><td>Mountain-500 Black, 52</td><td>Mountain Bikes</td><td>539.99</td></tr><tr><td>973</td><td>Road-350-W Yellow, 40</td><td>Road Bikes</td><td>1700.99</td></tr><tr><td>974</td><td>Road-350-W Yellow, 42</td><td>Road Bikes</td><td>1700.99</td></tr><tr><td>975</td><td>Road-350-W Yellow, 44</td><td>Road Bikes</td><td>1700.99</td></tr><tr><td>976</td><td>Road-350-W Yellow, 48</td><td>Road Bikes</td><td>1700.99</td></tr><tr><td>977</td><td>Road-750 Black, 58</td><td>Road Bikes</td><td>539.99</td></tr><tr><td>997</td><td>Road-750 Black, 44</td><td>Road Bikes</td><td>539.99</td></tr><tr><td>998</td><td>Road-750 Black, 48</td><td>Road Bikes</td><td>539.99</td></tr><tr><td>999</td><td>Road-750 Black, 52</td><td>Road Bikes</td><td>539.99</td></tr></tbody></table></div>"
      ]
     },
     "metadata": {
      "application/vnd.databricks.v1+output": {
       "addedWidgets": {},
       "aggData": [],
       "aggError": "",
       "aggOverflow": false,
       "aggSchema": [],
       "aggSeriesLimitReached": false,
       "aggType": "",
       "arguments": {},
       "columnCustomDisplayInfos": {},
       "data": [
        [
         771,
         "Mountain-100 Silver, 38",
         "Mountain Bikes",
         3399.99
        ],
        [
         772,
         "Mountain-100 Silver, 42",
         "Mountain Bikes",
         3399.99
        ],
        [
         773,
         "Mountain-100 Silver, 44",
         "Mountain Bikes",
         3399.99
        ],
        [
         774,
         "Mountain-100 Silver, 48",
         "Mountain Bikes",
         3399.99
        ],
        [
         775,
         "Mountain-100 Black, 38",
         "Mountain Bikes",
         3374.99
        ],
        [
         776,
         "Mountain-100 Black, 42",
         "Mountain Bikes",
         3374.99
        ],
        [
         777,
         "Mountain-100 Black, 44",
         "Mountain Bikes",
         3374.99
        ],
        [
         778,
         "Mountain-100 Black, 48",
         "Mountain Bikes",
         3374.99
        ],
        [
         779,
         "Mountain-200 Silver, 38",
         "Mountain Bikes",
         2319.99
        ],
        [
         780,
         "Mountain-200 Silver, 42",
         "Mountain Bikes",
         2319.99
        ],
        [
         781,
         "Mountain-200 Silver, 46",
         "Mountain Bikes",
         2319.99
        ],
        [
         782,
         "Mountain-200 Black, 38",
         "Mountain Bikes",
         2294.99
        ],
        [
         783,
         "Mountain-200 Black, 42",
         "Mountain Bikes",
         2294.99
        ],
        [
         784,
         "Mountain-200 Black, 46",
         "Mountain Bikes",
         2294.99
        ],
        [
         785,
         "Mountain-300 Black, 38",
         "Mountain Bikes",
         1079.99
        ],
        [
         786,
         "Mountain-300 Black, 40",
         "Mountain Bikes",
         1079.99
        ],
        [
         787,
         "Mountain-300 Black, 44",
         "Mountain Bikes",
         1079.99
        ],
        [
         788,
         "Mountain-300 Black, 48",
         "Mountain Bikes",
         1079.99
        ],
        [
         980,
         "Mountain-400-W Silver, 38",
         "Mountain Bikes",
         769.49
        ],
        [
         981,
         "Mountain-400-W Silver, 40",
         "Mountain Bikes",
         769.49
        ],
        [
         982,
         "Mountain-400-W Silver, 42",
         "Mountain Bikes",
         769.49
        ],
        [
         983,
         "Mountain-400-W Silver, 46",
         "Mountain Bikes",
         769.49
        ],
        [
         984,
         "Mountain-500 Silver, 40",
         "Mountain Bikes",
         564.99
        ],
        [
         985,
         "Mountain-500 Silver, 42",
         "Mountain Bikes",
         564.99
        ],
        [
         986,
         "Mountain-500 Silver, 44",
         "Mountain Bikes",
         564.99
        ],
        [
         987,
         "Mountain-500 Silver, 48",
         "Mountain Bikes",
         564.99
        ],
        [
         988,
         "Mountain-500 Silver, 52",
         "Mountain Bikes",
         564.99
        ],
        [
         989,
         "Mountain-500 Black, 40",
         "Mountain Bikes",
         539.99
        ],
        [
         990,
         "Mountain-500 Black, 42",
         "Mountain Bikes",
         539.99
        ],
        [
         991,
         "Mountain-500 Black, 44",
         "Mountain Bikes",
         539.99
        ],
        [
         992,
         "Mountain-500 Black, 48",
         "Mountain Bikes",
         539.99
        ],
        [
         993,
         "Mountain-500 Black, 52",
         "Mountain Bikes",
         539.99
        ],
        [
         973,
         "Road-350-W Yellow, 40",
         "Road Bikes",
         1700.99
        ],
        [
         974,
         "Road-350-W Yellow, 42",
         "Road Bikes",
         1700.99
        ],
        [
         975,
         "Road-350-W Yellow, 44",
         "Road Bikes",
         1700.99
        ],
        [
         976,
         "Road-350-W Yellow, 48",
         "Road Bikes",
         1700.99
        ],
        [
         977,
         "Road-750 Black, 58",
         "Road Bikes",
         539.99
        ],
        [
         997,
         "Road-750 Black, 44",
         "Road Bikes",
         539.99
        ],
        [
         998,
         "Road-750 Black, 48",
         "Road Bikes",
         539.99
        ],
        [
         999,
         "Road-750 Black, 52",
         "Road Bikes",
         539.99
        ]
       ],
       "datasetInfos": [],
       "dbfsResultPath": null,
       "isJsonSchema": true,
       "metadata": {},
       "overflow": false,
       "plotOptions": {
        "customPlotOptions": {},
        "displayType": "table",
        "pivotAggregation": null,
        "pivotColumns": null,
        "xColumns": null,
        "yColumns": null
       },
       "removedWidgets": [],
       "schema": [
        {
         "metadata": "{}",
         "name": "productID",
         "type": "\"integer\""
        },
        {
         "metadata": "{}",
         "name": "ProductName",
         "type": "\"string\""
        },
        {
         "metadata": "{}",
         "name": "Category",
         "type": "\"string\""
        },
        {
         "metadata": "{}",
         "name": "ListPrice",
         "type": "\"double\""
        }
       ],
       "type": "table"
      }
     },
     "output_type": "display_data"
    }
   ],
   "source": [
    "storage_account_name = \"datalakedemo001\"  \n",
    "container_name = \"newcontainer\"\n",
    "file_path = \"dbo.products.txt\"  # Removed the redundant 'newcontainer/' from the path\n",
    "\n",
    "spark.conf.set(\n",
    "    f\"fs.azure.account.key.{storage_account_name}.blob.core.windows.net\",\n",
    "    \"ndrhiH6jpzITegf7mGnuFB14JGKcDJqSedz/QeIoFxRRpCbql9r5TtDn94WrsC2i5M9Vqv5Puylm+ASt/s0Akw==\"\n",
    ")\n",
    "\n",
    "df = spark.read.format(\"csv\") \\\n",
    "    .option(\"header\", \"true\") \\\n",
    "    .option(\"inferSchema\", \"true\") \\\n",
    "    .load(f\"wasbs://{container_name}@{storage_account_name}.blob.core.windows.net/{file_path}\")\n",
    "\n",
    "display(df)"
   ]
  },
  {
   "cell_type": "code",
   "execution_count": 0,
   "metadata": {
    "application/vnd.databricks.v1+cell": {
     "cellMetadata": {
      "byteLimit": 2048000,
      "rowLimit": 10000
     },
     "inputWidgets": {},
     "nuid": "03a2175f-9255-4025-a7b3-72741a09bea5",
     "showTitle": false,
     "title": ""
    }
   },
   "outputs": [
    {
     "output_type": "display_data",
     "data": {
      "text/html": [
       "<style scoped>\n",
       "  .table-result-container {\n",
       "    max-height: 300px;\n",
       "    overflow: auto;\n",
       "  }\n",
       "  table, th, td {\n",
       "    border: 1px solid black;\n",
       "    border-collapse: collapse;\n",
       "  }\n",
       "  th, td {\n",
       "    padding: 5px;\n",
       "  }\n",
       "  th {\n",
       "    text-align: left;\n",
       "  }\n",
       "</style><div class='table-result-container'><table class='table-result'><thead style='background-color: white'><tr><th>productID</th><th>ProductName</th><th>Category</th><th>ListPrice</th><th>discount</th></tr></thead><tbody><tr><td>771</td><td>Mountain-100 Silver, 38</td><td>Mountain Bikes</td><td>3399.99</td><td>679.998</td></tr><tr><td>772</td><td>Mountain-100 Silver, 42</td><td>Mountain Bikes</td><td>3399.99</td><td>679.998</td></tr><tr><td>773</td><td>Mountain-100 Silver, 44</td><td>Mountain Bikes</td><td>3399.99</td><td>679.998</td></tr><tr><td>774</td><td>Mountain-100 Silver, 48</td><td>Mountain Bikes</td><td>3399.99</td><td>679.998</td></tr><tr><td>775</td><td>Mountain-100 Black, 38</td><td>Mountain Bikes</td><td>3374.99</td><td>674.998</td></tr><tr><td>776</td><td>Mountain-100 Black, 42</td><td>Mountain Bikes</td><td>3374.99</td><td>674.998</td></tr><tr><td>777</td><td>Mountain-100 Black, 44</td><td>Mountain Bikes</td><td>3374.99</td><td>674.998</td></tr><tr><td>778</td><td>Mountain-100 Black, 48</td><td>Mountain Bikes</td><td>3374.99</td><td>674.998</td></tr><tr><td>779</td><td>Mountain-200 Silver, 38</td><td>Mountain Bikes</td><td>2319.99</td><td>463.998</td></tr><tr><td>780</td><td>Mountain-200 Silver, 42</td><td>Mountain Bikes</td><td>2319.99</td><td>463.998</td></tr><tr><td>781</td><td>Mountain-200 Silver, 46</td><td>Mountain Bikes</td><td>2319.99</td><td>463.998</td></tr><tr><td>782</td><td>Mountain-200 Black, 38</td><td>Mountain Bikes</td><td>2294.99</td><td>458.998</td></tr><tr><td>783</td><td>Mountain-200 Black, 42</td><td>Mountain Bikes</td><td>2294.99</td><td>458.998</td></tr><tr><td>784</td><td>Mountain-200 Black, 46</td><td>Mountain Bikes</td><td>2294.99</td><td>458.998</td></tr><tr><td>785</td><td>Mountain-300 Black, 38</td><td>Mountain Bikes</td><td>1079.99</td><td>215.99800000000002</td></tr><tr><td>786</td><td>Mountain-300 Black, 40</td><td>Mountain Bikes</td><td>1079.99</td><td>215.99800000000002</td></tr><tr><td>787</td><td>Mountain-300 Black, 44</td><td>Mountain Bikes</td><td>1079.99</td><td>215.99800000000002</td></tr><tr><td>788</td><td>Mountain-300 Black, 48</td><td>Mountain Bikes</td><td>1079.99</td><td>215.99800000000002</td></tr><tr><td>980</td><td>Mountain-400-W Silver, 38</td><td>Mountain Bikes</td><td>769.49</td><td>153.89800000000002</td></tr><tr><td>981</td><td>Mountain-400-W Silver, 40</td><td>Mountain Bikes</td><td>769.49</td><td>153.89800000000002</td></tr><tr><td>982</td><td>Mountain-400-W Silver, 42</td><td>Mountain Bikes</td><td>769.49</td><td>153.89800000000002</td></tr><tr><td>983</td><td>Mountain-400-W Silver, 46</td><td>Mountain Bikes</td><td>769.49</td><td>153.89800000000002</td></tr><tr><td>984</td><td>Mountain-500 Silver, 40</td><td>Mountain Bikes</td><td>564.99</td><td>112.998</td></tr><tr><td>985</td><td>Mountain-500 Silver, 42</td><td>Mountain Bikes</td><td>564.99</td><td>112.998</td></tr><tr><td>986</td><td>Mountain-500 Silver, 44</td><td>Mountain Bikes</td><td>564.99</td><td>112.998</td></tr><tr><td>987</td><td>Mountain-500 Silver, 48</td><td>Mountain Bikes</td><td>564.99</td><td>112.998</td></tr><tr><td>988</td><td>Mountain-500 Silver, 52</td><td>Mountain Bikes</td><td>564.99</td><td>112.998</td></tr><tr><td>989</td><td>Mountain-500 Black, 40</td><td>Mountain Bikes</td><td>539.99</td><td>107.998</td></tr><tr><td>990</td><td>Mountain-500 Black, 42</td><td>Mountain Bikes</td><td>539.99</td><td>107.998</td></tr><tr><td>991</td><td>Mountain-500 Black, 44</td><td>Mountain Bikes</td><td>539.99</td><td>107.998</td></tr><tr><td>992</td><td>Mountain-500 Black, 48</td><td>Mountain Bikes</td><td>539.99</td><td>107.998</td></tr><tr><td>993</td><td>Mountain-500 Black, 52</td><td>Mountain Bikes</td><td>539.99</td><td>107.998</td></tr><tr><td>973</td><td>Road-350-W Yellow, 40</td><td>Road Bikes</td><td>1700.99</td><td>340.19800000000004</td></tr><tr><td>974</td><td>Road-350-W Yellow, 42</td><td>Road Bikes</td><td>1700.99</td><td>340.19800000000004</td></tr><tr><td>975</td><td>Road-350-W Yellow, 44</td><td>Road Bikes</td><td>1700.99</td><td>340.19800000000004</td></tr><tr><td>976</td><td>Road-350-W Yellow, 48</td><td>Road Bikes</td><td>1700.99</td><td>340.19800000000004</td></tr><tr><td>977</td><td>Road-750 Black, 58</td><td>Road Bikes</td><td>539.99</td><td>107.998</td></tr><tr><td>997</td><td>Road-750 Black, 44</td><td>Road Bikes</td><td>539.99</td><td>107.998</td></tr><tr><td>998</td><td>Road-750 Black, 48</td><td>Road Bikes</td><td>539.99</td><td>107.998</td></tr><tr><td>999</td><td>Road-750 Black, 52</td><td>Road Bikes</td><td>539.99</td><td>107.998</td></tr></tbody></table></div>"
      ]
     },
     "metadata": {
      "application/vnd.databricks.v1+output": {
       "addedWidgets": {},
       "aggData": [],
       "aggError": "",
       "aggOverflow": false,
       "aggSchema": [],
       "aggSeriesLimitReached": false,
       "aggType": "",
       "arguments": {},
       "columnCustomDisplayInfos": {},
       "data": [
        [
         771,
         "Mountain-100 Silver, 38",
         "Mountain Bikes",
         3399.99,
         679.998
        ],
        [
         772,
         "Mountain-100 Silver, 42",
         "Mountain Bikes",
         3399.99,
         679.998
        ],
        [
         773,
         "Mountain-100 Silver, 44",
         "Mountain Bikes",
         3399.99,
         679.998
        ],
        [
         774,
         "Mountain-100 Silver, 48",
         "Mountain Bikes",
         3399.99,
         679.998
        ],
        [
         775,
         "Mountain-100 Black, 38",
         "Mountain Bikes",
         3374.99,
         674.998
        ],
        [
         776,
         "Mountain-100 Black, 42",
         "Mountain Bikes",
         3374.99,
         674.998
        ],
        [
         777,
         "Mountain-100 Black, 44",
         "Mountain Bikes",
         3374.99,
         674.998
        ],
        [
         778,
         "Mountain-100 Black, 48",
         "Mountain Bikes",
         3374.99,
         674.998
        ],
        [
         779,
         "Mountain-200 Silver, 38",
         "Mountain Bikes",
         2319.99,
         463.998
        ],
        [
         780,
         "Mountain-200 Silver, 42",
         "Mountain Bikes",
         2319.99,
         463.998
        ],
        [
         781,
         "Mountain-200 Silver, 46",
         "Mountain Bikes",
         2319.99,
         463.998
        ],
        [
         782,
         "Mountain-200 Black, 38",
         "Mountain Bikes",
         2294.99,
         458.998
        ],
        [
         783,
         "Mountain-200 Black, 42",
         "Mountain Bikes",
         2294.99,
         458.998
        ],
        [
         784,
         "Mountain-200 Black, 46",
         "Mountain Bikes",
         2294.99,
         458.998
        ],
        [
         785,
         "Mountain-300 Black, 38",
         "Mountain Bikes",
         1079.99,
         215.99800000000002
        ],
        [
         786,
         "Mountain-300 Black, 40",
         "Mountain Bikes",
         1079.99,
         215.99800000000002
        ],
        [
         787,
         "Mountain-300 Black, 44",
         "Mountain Bikes",
         1079.99,
         215.99800000000002
        ],
        [
         788,
         "Mountain-300 Black, 48",
         "Mountain Bikes",
         1079.99,
         215.99800000000002
        ],
        [
         980,
         "Mountain-400-W Silver, 38",
         "Mountain Bikes",
         769.49,
         153.89800000000002
        ],
        [
         981,
         "Mountain-400-W Silver, 40",
         "Mountain Bikes",
         769.49,
         153.89800000000002
        ],
        [
         982,
         "Mountain-400-W Silver, 42",
         "Mountain Bikes",
         769.49,
         153.89800000000002
        ],
        [
         983,
         "Mountain-400-W Silver, 46",
         "Mountain Bikes",
         769.49,
         153.89800000000002
        ],
        [
         984,
         "Mountain-500 Silver, 40",
         "Mountain Bikes",
         564.99,
         112.998
        ],
        [
         985,
         "Mountain-500 Silver, 42",
         "Mountain Bikes",
         564.99,
         112.998
        ],
        [
         986,
         "Mountain-500 Silver, 44",
         "Mountain Bikes",
         564.99,
         112.998
        ],
        [
         987,
         "Mountain-500 Silver, 48",
         "Mountain Bikes",
         564.99,
         112.998
        ],
        [
         988,
         "Mountain-500 Silver, 52",
         "Mountain Bikes",
         564.99,
         112.998
        ],
        [
         989,
         "Mountain-500 Black, 40",
         "Mountain Bikes",
         539.99,
         107.998
        ],
        [
         990,
         "Mountain-500 Black, 42",
         "Mountain Bikes",
         539.99,
         107.998
        ],
        [
         991,
         "Mountain-500 Black, 44",
         "Mountain Bikes",
         539.99,
         107.998
        ],
        [
         992,
         "Mountain-500 Black, 48",
         "Mountain Bikes",
         539.99,
         107.998
        ],
        [
         993,
         "Mountain-500 Black, 52",
         "Mountain Bikes",
         539.99,
         107.998
        ],
        [
         973,
         "Road-350-W Yellow, 40",
         "Road Bikes",
         1700.99,
         340.19800000000004
        ],
        [
         974,
         "Road-350-W Yellow, 42",
         "Road Bikes",
         1700.99,
         340.19800000000004
        ],
        [
         975,
         "Road-350-W Yellow, 44",
         "Road Bikes",
         1700.99,
         340.19800000000004
        ],
        [
         976,
         "Road-350-W Yellow, 48",
         "Road Bikes",
         1700.99,
         340.19800000000004
        ],
        [
         977,
         "Road-750 Black, 58",
         "Road Bikes",
         539.99,
         107.998
        ],
        [
         997,
         "Road-750 Black, 44",
         "Road Bikes",
         539.99,
         107.998
        ],
        [
         998,
         "Road-750 Black, 48",
         "Road Bikes",
         539.99,
         107.998
        ],
        [
         999,
         "Road-750 Black, 52",
         "Road Bikes",
         539.99,
         107.998
        ]
       ],
       "datasetInfos": [],
       "dbfsResultPath": null,
       "isJsonSchema": true,
       "metadata": {},
       "overflow": false,
       "plotOptions": {
        "customPlotOptions": {},
        "displayType": "table",
        "pivotAggregation": null,
        "pivotColumns": null,
        "xColumns": null,
        "yColumns": null
       },
       "removedWidgets": [],
       "schema": [
        {
         "metadata": "{}",
         "name": "productID",
         "type": "\"integer\""
        },
        {
         "metadata": "{}",
         "name": "ProductName",
         "type": "\"string\""
        },
        {
         "metadata": "{}",
         "name": "Category",
         "type": "\"string\""
        },
        {
         "metadata": "{}",
         "name": "ListPrice",
         "type": "\"double\""
        },
        {
         "metadata": "{}",
         "name": "discount",
         "type": "\"double\""
        }
       ],
       "type": "table"
      }
     },
     "output_type": "display_data"
    }
   ],
   "source": [
    "from pyspark.sql.functions import col\n",
    "df = df.withColumn(\"discount\", col(\"listprice\") * 0.2)\n",
    "display(df)"
   ]
  },
  {
   "cell_type": "code",
   "execution_count": 0,
   "metadata": {
    "application/vnd.databricks.v1+cell": {
     "cellMetadata": {
      "byteLimit": 2048000,
      "rowLimit": 10000
     },
     "inputWidgets": {},
     "nuid": "6f702cd3-47f2-4059-bda8-3ecd74f6ed33",
     "showTitle": false,
     "title": ""
    }
   },
   "outputs": [
    {
     "output_type": "display_data",
     "data": {
      "text/html": [
       "<style scoped>\n",
       "  .table-result-container {\n",
       "    max-height: 300px;\n",
       "    overflow: auto;\n",
       "  }\n",
       "  table, th, td {\n",
       "    border: 1px solid black;\n",
       "    border-collapse: collapse;\n",
       "  }\n",
       "  th, td {\n",
       "    padding: 5px;\n",
       "  }\n",
       "  th {\n",
       "    text-align: left;\n",
       "  }\n",
       "</style><div class='table-result-container'><table class='table-result'><thead style='background-color: white'><tr><th>productID</th><th>ProductName</th><th>Category</th><th>listprice</th><th>discount</th></tr></thead><tbody><tr><td>771</td><td>Mountain-100 Silver, 38</td><td>Mountain Bikes</td><td>3399.99</td><td>680.0</td></tr><tr><td>772</td><td>Mountain-100 Silver, 42</td><td>Mountain Bikes</td><td>3399.99</td><td>680.0</td></tr><tr><td>773</td><td>Mountain-100 Silver, 44</td><td>Mountain Bikes</td><td>3399.99</td><td>680.0</td></tr><tr><td>774</td><td>Mountain-100 Silver, 48</td><td>Mountain Bikes</td><td>3399.99</td><td>680.0</td></tr><tr><td>775</td><td>Mountain-100 Black, 38</td><td>Mountain Bikes</td><td>3374.99</td><td>675.0</td></tr><tr><td>776</td><td>Mountain-100 Black, 42</td><td>Mountain Bikes</td><td>3374.99</td><td>675.0</td></tr><tr><td>777</td><td>Mountain-100 Black, 44</td><td>Mountain Bikes</td><td>3374.99</td><td>675.0</td></tr><tr><td>778</td><td>Mountain-100 Black, 48</td><td>Mountain Bikes</td><td>3374.99</td><td>675.0</td></tr><tr><td>779</td><td>Mountain-200 Silver, 38</td><td>Mountain Bikes</td><td>2319.99</td><td>464.0</td></tr><tr><td>780</td><td>Mountain-200 Silver, 42</td><td>Mountain Bikes</td><td>2319.99</td><td>464.0</td></tr><tr><td>781</td><td>Mountain-200 Silver, 46</td><td>Mountain Bikes</td><td>2319.99</td><td>464.0</td></tr><tr><td>782</td><td>Mountain-200 Black, 38</td><td>Mountain Bikes</td><td>2294.99</td><td>459.0</td></tr><tr><td>783</td><td>Mountain-200 Black, 42</td><td>Mountain Bikes</td><td>2294.99</td><td>459.0</td></tr><tr><td>784</td><td>Mountain-200 Black, 46</td><td>Mountain Bikes</td><td>2294.99</td><td>459.0</td></tr><tr><td>785</td><td>Mountain-300 Black, 38</td><td>Mountain Bikes</td><td>1079.99</td><td>216.0</td></tr><tr><td>786</td><td>Mountain-300 Black, 40</td><td>Mountain Bikes</td><td>1079.99</td><td>216.0</td></tr><tr><td>787</td><td>Mountain-300 Black, 44</td><td>Mountain Bikes</td><td>1079.99</td><td>216.0</td></tr><tr><td>788</td><td>Mountain-300 Black, 48</td><td>Mountain Bikes</td><td>1079.99</td><td>216.0</td></tr><tr><td>980</td><td>Mountain-400-W Silver, 38</td><td>Mountain Bikes</td><td>769.49</td><td>153.9</td></tr><tr><td>981</td><td>Mountain-400-W Silver, 40</td><td>Mountain Bikes</td><td>769.49</td><td>153.9</td></tr><tr><td>982</td><td>Mountain-400-W Silver, 42</td><td>Mountain Bikes</td><td>769.49</td><td>153.9</td></tr><tr><td>983</td><td>Mountain-400-W Silver, 46</td><td>Mountain Bikes</td><td>769.49</td><td>153.9</td></tr><tr><td>984</td><td>Mountain-500 Silver, 40</td><td>Mountain Bikes</td><td>564.99</td><td>113.0</td></tr><tr><td>985</td><td>Mountain-500 Silver, 42</td><td>Mountain Bikes</td><td>564.99</td><td>113.0</td></tr><tr><td>986</td><td>Mountain-500 Silver, 44</td><td>Mountain Bikes</td><td>564.99</td><td>113.0</td></tr><tr><td>987</td><td>Mountain-500 Silver, 48</td><td>Mountain Bikes</td><td>564.99</td><td>113.0</td></tr><tr><td>988</td><td>Mountain-500 Silver, 52</td><td>Mountain Bikes</td><td>564.99</td><td>113.0</td></tr><tr><td>989</td><td>Mountain-500 Black, 40</td><td>Mountain Bikes</td><td>539.99</td><td>108.0</td></tr><tr><td>990</td><td>Mountain-500 Black, 42</td><td>Mountain Bikes</td><td>539.99</td><td>108.0</td></tr><tr><td>991</td><td>Mountain-500 Black, 44</td><td>Mountain Bikes</td><td>539.99</td><td>108.0</td></tr><tr><td>992</td><td>Mountain-500 Black, 48</td><td>Mountain Bikes</td><td>539.99</td><td>108.0</td></tr><tr><td>993</td><td>Mountain-500 Black, 52</td><td>Mountain Bikes</td><td>539.99</td><td>108.0</td></tr><tr><td>973</td><td>Road-350-W Yellow, 40</td><td>Road Bikes</td><td>1700.99</td><td>340.2</td></tr><tr><td>974</td><td>Road-350-W Yellow, 42</td><td>Road Bikes</td><td>1700.99</td><td>340.2</td></tr><tr><td>975</td><td>Road-350-W Yellow, 44</td><td>Road Bikes</td><td>1700.99</td><td>340.2</td></tr><tr><td>976</td><td>Road-350-W Yellow, 48</td><td>Road Bikes</td><td>1700.99</td><td>340.2</td></tr><tr><td>977</td><td>Road-750 Black, 58</td><td>Road Bikes</td><td>539.99</td><td>108.0</td></tr><tr><td>997</td><td>Road-750 Black, 44</td><td>Road Bikes</td><td>539.99</td><td>108.0</td></tr><tr><td>998</td><td>Road-750 Black, 48</td><td>Road Bikes</td><td>539.99</td><td>108.0</td></tr><tr><td>999</td><td>Road-750 Black, 52</td><td>Road Bikes</td><td>539.99</td><td>108.0</td></tr></tbody></table></div>"
      ]
     },
     "metadata": {
      "application/vnd.databricks.v1+output": {
       "addedWidgets": {},
       "aggData": [],
       "aggError": "",
       "aggOverflow": false,
       "aggSchema": [],
       "aggSeriesLimitReached": false,
       "aggType": "",
       "arguments": {},
       "columnCustomDisplayInfos": {},
       "data": [
        [
         771,
         "Mountain-100 Silver, 38",
         "Mountain Bikes",
         3399.99,
         680.0
        ],
        [
         772,
         "Mountain-100 Silver, 42",
         "Mountain Bikes",
         3399.99,
         680.0
        ],
        [
         773,
         "Mountain-100 Silver, 44",
         "Mountain Bikes",
         3399.99,
         680.0
        ],
        [
         774,
         "Mountain-100 Silver, 48",
         "Mountain Bikes",
         3399.99,
         680.0
        ],
        [
         775,
         "Mountain-100 Black, 38",
         "Mountain Bikes",
         3374.99,
         675.0
        ],
        [
         776,
         "Mountain-100 Black, 42",
         "Mountain Bikes",
         3374.99,
         675.0
        ],
        [
         777,
         "Mountain-100 Black, 44",
         "Mountain Bikes",
         3374.99,
         675.0
        ],
        [
         778,
         "Mountain-100 Black, 48",
         "Mountain Bikes",
         3374.99,
         675.0
        ],
        [
         779,
         "Mountain-200 Silver, 38",
         "Mountain Bikes",
         2319.99,
         464.0
        ],
        [
         780,
         "Mountain-200 Silver, 42",
         "Mountain Bikes",
         2319.99,
         464.0
        ],
        [
         781,
         "Mountain-200 Silver, 46",
         "Mountain Bikes",
         2319.99,
         464.0
        ],
        [
         782,
         "Mountain-200 Black, 38",
         "Mountain Bikes",
         2294.99,
         459.0
        ],
        [
         783,
         "Mountain-200 Black, 42",
         "Mountain Bikes",
         2294.99,
         459.0
        ],
        [
         784,
         "Mountain-200 Black, 46",
         "Mountain Bikes",
         2294.99,
         459.0
        ],
        [
         785,
         "Mountain-300 Black, 38",
         "Mountain Bikes",
         1079.99,
         216.0
        ],
        [
         786,
         "Mountain-300 Black, 40",
         "Mountain Bikes",
         1079.99,
         216.0
        ],
        [
         787,
         "Mountain-300 Black, 44",
         "Mountain Bikes",
         1079.99,
         216.0
        ],
        [
         788,
         "Mountain-300 Black, 48",
         "Mountain Bikes",
         1079.99,
         216.0
        ],
        [
         980,
         "Mountain-400-W Silver, 38",
         "Mountain Bikes",
         769.49,
         153.9
        ],
        [
         981,
         "Mountain-400-W Silver, 40",
         "Mountain Bikes",
         769.49,
         153.9
        ],
        [
         982,
         "Mountain-400-W Silver, 42",
         "Mountain Bikes",
         769.49,
         153.9
        ],
        [
         983,
         "Mountain-400-W Silver, 46",
         "Mountain Bikes",
         769.49,
         153.9
        ],
        [
         984,
         "Mountain-500 Silver, 40",
         "Mountain Bikes",
         564.99,
         113.0
        ],
        [
         985,
         "Mountain-500 Silver, 42",
         "Mountain Bikes",
         564.99,
         113.0
        ],
        [
         986,
         "Mountain-500 Silver, 44",
         "Mountain Bikes",
         564.99,
         113.0
        ],
        [
         987,
         "Mountain-500 Silver, 48",
         "Mountain Bikes",
         564.99,
         113.0
        ],
        [
         988,
         "Mountain-500 Silver, 52",
         "Mountain Bikes",
         564.99,
         113.0
        ],
        [
         989,
         "Mountain-500 Black, 40",
         "Mountain Bikes",
         539.99,
         108.0
        ],
        [
         990,
         "Mountain-500 Black, 42",
         "Mountain Bikes",
         539.99,
         108.0
        ],
        [
         991,
         "Mountain-500 Black, 44",
         "Mountain Bikes",
         539.99,
         108.0
        ],
        [
         992,
         "Mountain-500 Black, 48",
         "Mountain Bikes",
         539.99,
         108.0
        ],
        [
         993,
         "Mountain-500 Black, 52",
         "Mountain Bikes",
         539.99,
         108.0
        ],
        [
         973,
         "Road-350-W Yellow, 40",
         "Road Bikes",
         1700.99,
         340.2
        ],
        [
         974,
         "Road-350-W Yellow, 42",
         "Road Bikes",
         1700.99,
         340.2
        ],
        [
         975,
         "Road-350-W Yellow, 44",
         "Road Bikes",
         1700.99,
         340.2
        ],
        [
         976,
         "Road-350-W Yellow, 48",
         "Road Bikes",
         1700.99,
         340.2
        ],
        [
         977,
         "Road-750 Black, 58",
         "Road Bikes",
         539.99,
         108.0
        ],
        [
         997,
         "Road-750 Black, 44",
         "Road Bikes",
         539.99,
         108.0
        ],
        [
         998,
         "Road-750 Black, 48",
         "Road Bikes",
         539.99,
         108.0
        ],
        [
         999,
         "Road-750 Black, 52",
         "Road Bikes",
         539.99,
         108.0
        ]
       ],
       "datasetInfos": [],
       "dbfsResultPath": null,
       "isJsonSchema": true,
       "metadata": {},
       "overflow": false,
       "plotOptions": {
        "customPlotOptions": {},
        "displayType": "table",
        "pivotAggregation": null,
        "pivotColumns": null,
        "xColumns": null,
        "yColumns": null
       },
       "removedWidgets": [],
       "schema": [
        {
         "metadata": "{}",
         "name": "productID",
         "type": "\"integer\""
        },
        {
         "metadata": "{}",
         "name": "ProductName",
         "type": "\"string\""
        },
        {
         "metadata": "{}",
         "name": "Category",
         "type": "\"string\""
        },
        {
         "metadata": "{}",
         "name": "listprice",
         "type": "\"double\""
        },
        {
         "metadata": "{}",
         "name": "discount",
         "type": "\"double\""
        }
       ],
       "type": "table"
      }
     },
     "output_type": "display_data"
    }
   ],
   "source": [
    "from pyspark.sql.functions import round\n",
    "\n",
    "df = df.withColumn(\"listprice\", round(\"listprice\", 2)) \\\n",
    "       .withColumn(\"discount\", round(\"discount\", 2))\n",
    "\n",
    "display(df)"
   ]
  },
  {
   "cell_type": "code",
   "execution_count": 0,
   "metadata": {
    "application/vnd.databricks.v1+cell": {
     "cellMetadata": {
      "byteLimit": 2048000,
      "rowLimit": 10000
     },
     "inputWidgets": {},
     "nuid": "eedc37e6-f539-4eec-9e1c-0ef6a2626b90",
     "showTitle": false,
     "title": ""
    }
   },
   "outputs": [
    {
     "output_type": "stream",
     "name": "stdout",
     "output_type": "stream",
     "text": [
      "Transformed data written to abfss://newcontainer@datalakedemo001.dfs.core.windows.net/transformed_data\n"
     ]
    }
   ],
   "source": [
    "# Define storage account and container details for ADLS\n",
    "adls_storage_account_name = \"datalakedemo001\"\n",
    "adls_container_name = \"newcontainer\"  \n",
    "output_path = f\"abfss://{adls_container_name}@{adls_storage_account_name}.dfs.core.windows.net/transformed_data\"\n",
    " \n",
    " \n",
    "spark.conf.set(\n",
    "    f\"fs.azure.account.key.{adls_storage_account_name}.dfs.core.windows.net\",\n",
    "    \"ndrhiH6jpzITegf7mGnuFB14JGKcDJqSedz/QeIoFxRRpCbql9r5TtDn94WrsC2i5M9Vqv5Puylm+ASt/s0Akw==\"\n",
    ")\n",
    " \n",
    " \n",
    "df.write.mode('overwrite').option(\"header\", \"true\").csv(output_path)\n",
    " \n",
    "print(f\"Transformed data written to {output_path}\")\n",
    " "
   ]
  },
  {
   "cell_type": "code",
   "execution_count": 0,
   "metadata": {
    "application/vnd.databricks.v1+cell": {
     "cellMetadata": {},
     "inputWidgets": {},
     "nuid": "916a861f-3529-47e1-8c47-639607d74500",
     "showTitle": false,
     "title": ""
    }
   },
   "outputs": [],
   "source": []
  }
 ],
 "metadata": {
  "application/vnd.databricks.v1+notebook": {
   "dashboards": [],
   "environmentMetadata": null,
   "language": "python",
   "notebookMetadata": {
    "pythonIndentUnit": 4
   },
   "notebookName": "DATALAKE TO DATALAKE",
   "widgets": {}
  }
 },
 "nbformat": 4,
 "nbformat_minor": 0
}
