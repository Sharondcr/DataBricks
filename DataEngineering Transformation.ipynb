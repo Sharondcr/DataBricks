{
 "cells": [
  {
   "cell_type": "code",
   "execution_count": 0,
   "metadata": {
    "application/vnd.databricks.v1+cell": {
     "cellMetadata": {
      "byteLimit": 2048000,
      "rowLimit": 10000
     },
     "inputWidgets": {},
     "nuid": "9ee7fd7e-ebc8-4e37-8260-2f21cf2f8e8d",
     "showTitle": false,
     "title": ""
    }
   },
   "outputs": [
    {
     "output_type": "execute_result",
     "data": {
      "text/html": [
       "\n",
       "        <div>\n",
       "            <p><b>SparkContext</b></p>\n",
       "\n",
       "            <p><a href=\"/?o=4094169015410041#setting/sparkui/0724-044838-k72nocr/driver-2471481811075474855\">Spark UI</a></p>\n",
       "\n",
       "            <dl>\n",
       "              <dt>Version</dt>\n",
       "                <dd><code>v3.5.0</code></dd>\n",
       "              <dt>Master</dt>\n",
       "                <dd><code>spark://10.139.64.4:7077</code></dd>\n",
       "              <dt>AppName</dt>\n",
       "                <dd><code>Databricks Shell</code></dd>\n",
       "            </dl>\n",
       "        </div>\n",
       "        "
      ],
      "text/plain": [
       "<SparkContext master=spark://10.139.64.4:7077 appName=Databricks Shell>"
      ]
     },
     "execution_count": 1,
     "metadata": {},
     "output_type": "execute_result"
    }
   ],
   "source": [
    "sc"
   ]
  },
  {
   "cell_type": "code",
   "execution_count": 0,
   "metadata": {
    "application/vnd.databricks.v1+cell": {
     "cellMetadata": {
      "byteLimit": 2048000,
      "rowLimit": 10000
     },
     "inputWidgets": {},
     "nuid": "0a8c97b7-5c91-452c-afad-e1bdafa79c08",
     "showTitle": false,
     "title": ""
    }
   },
   "outputs": [
    {
     "output_type": "execute_result",
     "data": {
      "text/html": [
       "\n",
       "            <div>\n",
       "                <p><b>SparkSession - hive</b></p>\n",
       "                \n",
       "        <div>\n",
       "            <p><b>SparkContext</b></p>\n",
       "\n",
       "            <p><a href=\"/?o=4094169015410041#setting/sparkui/0724-044838-k72nocr/driver-2471481811075474855\">Spark UI</a></p>\n",
       "\n",
       "            <dl>\n",
       "              <dt>Version</dt>\n",
       "                <dd><code>v3.5.0</code></dd>\n",
       "              <dt>Master</dt>\n",
       "                <dd><code>spark://10.139.64.4:7077</code></dd>\n",
       "              <dt>AppName</dt>\n",
       "                <dd><code>Databricks Shell</code></dd>\n",
       "            </dl>\n",
       "        </div>\n",
       "        \n",
       "            </div>\n",
       "        "
      ],
      "text/plain": [
       "<pyspark.sql.session.SparkSession at 0x7f0a1f45b6a0>"
      ]
     },
     "execution_count": 2,
     "metadata": {},
     "output_type": "execute_result"
    }
   ],
   "source": [
    "spark"
   ]
  },
  {
   "cell_type": "code",
   "execution_count": 0,
   "metadata": {
    "application/vnd.databricks.v1+cell": {
     "cellMetadata": {
      "byteLimit": 2048000,
      "rowLimit": 10000
     },
     "inputWidgets": {},
     "nuid": "72d4b422-0121-414f-b38f-71a98f80fd2a",
     "showTitle": false,
     "title": ""
    }
   },
   "outputs": [],
   "source": [
    "df = spark.read.format(\"csv\").option(\"header\",\"true\").option(\"inferSchema\",\"true\").load(\"dbfs:/Volumes/azure_databricks/default/shopping/Online Shoppers Intention.csv\"\n",
    ")"
   ]
  },
  {
   "cell_type": "code",
   "execution_count": 0,
   "metadata": {
    "application/vnd.databricks.v1+cell": {
     "cellMetadata": {
      "byteLimit": 2048000,
      "rowLimit": 10000
     },
     "inputWidgets": {},
     "nuid": "e4136377-24fd-4599-ac3e-4e15157e9ecf",
     "showTitle": false,
     "title": ""
    }
   },
   "outputs": [
    {
     "output_type": "stream",
     "name": "stdout",
     "output_type": "stream",
     "text": [
      "+--------------+-----------------------+-------------+----------------------+--------------+-----------------------+-----------+-----------+----------+----------+-----+----------------+-------+------+-----------+-----------------+-------+-------+\n|Administrative|Administrative_Duration|Informational|Informational_Duration|ProductRelated|ProductRelated_Duration|BounceRates|  ExitRates|PageValues|SpecialDay|Month|OperatingSystems|Browser|Region|TrafficType|      VisitorType|Weekend|Revenue|\n+--------------+-----------------------+-------------+----------------------+--------------+-----------------------+-----------+-----------+----------+----------+-----+----------------+-------+------+-----------+-----------------+-------+-------+\n|             0|                    0.0|            0|                   0.0|             1|                    0.0|        0.2|        0.2|       0.0|       0.0|  Feb|               1|      1|     1|          1|Returning_Visitor|  false|  false|\n|             0|                    0.0|            0|                   0.0|             2|                   64.0|        0.0|        0.1|       0.0|       0.0|  Feb|               2|      2|     1|          2|Returning_Visitor|  false|  false|\n|             0|                   -1.0|            0|                  -1.0|             1|                   -1.0|        0.2|        0.2|       0.0|       0.0|  Feb|               4|      1|     9|          3|Returning_Visitor|  false|  false|\n|             0|                    0.0|            0|                   0.0|             2|            2.666666667|       0.05|       0.14|       0.0|       0.0|  Feb|               3|      2|     2|          4|Returning_Visitor|  false|  false|\n|             0|                    0.0|            0|                   0.0|            10|                  627.5|       0.02|       0.05|       0.0|       0.0|  Feb|               3|      3|     1|          4|Returning_Visitor|   true|  false|\n|             0|                    0.0|            0|                   0.0|            19|            154.2166667|0.015789474|0.024561404|       0.0|       0.0|  Feb|               2|      2|     1|          3|Returning_Visitor|  false|  false|\n|             0|                   -1.0|            0|                  -1.0|             1|                   -1.0|        0.2|        0.2|       0.0|       0.4|  Feb|               2|      4|     3|          3|Returning_Visitor|  false|  false|\n|             1|                   -1.0|            0|                  -1.0|             1|                   -1.0|        0.2|        0.2|       0.0|       0.0|  Feb|               1|      2|     1|          5|Returning_Visitor|   true|  false|\n|             0|                    0.0|            0|                   0.0|             2|                   37.0|        0.0|        0.1|       0.0|       0.8|  Feb|               2|      2|     2|          3|Returning_Visitor|  false|  false|\n|             0|                    0.0|            0|                   0.0|             3|                  738.0|        0.0|0.022222222|       0.0|       0.4|  Feb|               2|      4|     1|          2|Returning_Visitor|  false|  false|\n|             0|                    0.0|            0|                   0.0|             3|                  395.0|        0.0|0.066666667|       0.0|       0.0|  Feb|               1|      1|     3|          3|Returning_Visitor|  false|  false|\n|             0|                    0.0|            0|                   0.0|            16|                 407.75|    0.01875|0.025833333|       0.0|       0.4|  Feb|               1|      1|     4|          3|Returning_Visitor|  false|  false|\n|             0|                    0.0|            0|                   0.0|             7|                  280.5|        0.0|0.028571429|       0.0|       0.0|  Feb|               1|      1|     1|          3|Returning_Visitor|  false|  false|\n|             0|                    0.0|            0|                   0.0|             6|                   98.0|        0.0|0.066666667|       0.0|       0.0|  Feb|               2|      5|     1|          3|Returning_Visitor|  false|  false|\n|             0|                    0.0|            0|                   0.0|             2|                   68.0|        0.0|        0.1|       0.0|       0.0|  Feb|               3|      2|     3|          3|Returning_Visitor|  false|  false|\n|             2|                   53.0|            0|                   0.0|            23|            1668.285119|0.008333333|0.016312636|       0.0|       0.0|  Feb|               1|      1|     9|          3|Returning_Visitor|  false|  false|\n|             0|                   -1.0|            0|                  -1.0|             1|                   -1.0|        0.2|        0.2|       0.0|       0.0|  Feb|               1|      1|     4|          3|Returning_Visitor|  false|  false|\n|             0|                    0.0|            0|                   0.0|            13|            334.9666667|        0.0|0.007692308|       0.0|       0.0|  Feb|               1|      1|     1|          4|Returning_Visitor|   true|  false|\n|             0|                    0.0|            0|                   0.0|             2|                   32.0|        0.0|        0.1|       0.0|       0.0|  Feb|               2|      2|     1|          3|Returning_Visitor|  false|  false|\n|             0|                    0.0|            0|                   0.0|            20|            2981.166667|        0.0|       0.01|       0.0|       0.0|  Feb|               2|      4|     4|          4|Returning_Visitor|  false|  false|\n+--------------+-----------------------+-------------+----------------------+--------------+-----------------------+-----------+-----------+----------+----------+-----+----------------+-------+------+-----------+-----------------+-------+-------+\nonly showing top 20 rows\n\n"
     ]
    }
   ],
   "source": [
    "df.show()"
   ]
  },
  {
   "cell_type": "code",
   "execution_count": 0,
   "metadata": {
    "application/vnd.databricks.v1+cell": {
     "cellMetadata": {
      "byteLimit": 2048000,
      "rowLimit": 10000
     },
     "inputWidgets": {},
     "nuid": "1fd195b8-3f6e-47c0-8d5c-8b3b5611d151",
     "showTitle": false,
     "title": ""
    }
   },
   "outputs": [
    {
     "output_type": "execute_result",
     "data": {
      "text/plain": [
       "DataFrame[Administrative: int, Administrative_Duration: double, Informational: int, Informational_Duration: double, ProductRelated: int, ProductRelated_Duration: double, BounceRates: double, ExitRates: double, PageValues: double, SpecialDay: double, Month: string, OperatingSystems: int, Browser: int, Region: int, TrafficType: int, VisitorType: string, Weekend: boolean, Revenue: boolean]"
      ]
     },
     "execution_count": 46,
     "metadata": {},
     "output_type": "execute_result"
    }
   ],
   "source": [
    "df.cache()"
   ]
  },
  {
   "cell_type": "code",
   "execution_count": 0,
   "metadata": {
    "application/vnd.databricks.v1+cell": {
     "cellMetadata": {
      "byteLimit": 2048000,
      "rowLimit": 10000
     },
     "inputWidgets": {},
     "nuid": "728170f6-9349-45b4-b6ee-61a8d3f46b85",
     "showTitle": false,
     "title": ""
    }
   },
   "outputs": [
    {
     "output_type": "stream",
     "name": "stdout",
     "output_type": "stream",
     "text": [
      "root\n |-- Administrative: integer (nullable = true)\n |-- Administrative_Duration: double (nullable = true)\n |-- Informational: integer (nullable = true)\n |-- Informational_Duration: double (nullable = true)\n |-- ProductRelated: integer (nullable = true)\n |-- ProductRelated_Duration: double (nullable = true)\n |-- BounceRates: double (nullable = true)\n |-- ExitRates: double (nullable = true)\n |-- PageValues: double (nullable = true)\n |-- SpecialDay: double (nullable = true)\n |-- Month: string (nullable = true)\n |-- OperatingSystems: integer (nullable = true)\n |-- Browser: integer (nullable = true)\n |-- Region: integer (nullable = true)\n |-- TrafficType: integer (nullable = true)\n |-- VisitorType: string (nullable = true)\n |-- Weekend: boolean (nullable = true)\n |-- Revenue: boolean (nullable = true)\n\n"
     ]
    }
   ],
   "source": [
    "df.printSchema()"
   ]
  },
  {
   "cell_type": "code",
   "execution_count": 0,
   "metadata": {
    "application/vnd.databricks.v1+cell": {
     "cellMetadata": {
      "byteLimit": 2048000,
      "rowLimit": 10000
     },
     "inputWidgets": {},
     "nuid": "ac88bf3a-c7f9-4e34-890a-56bdc248641f",
     "showTitle": false,
     "title": ""
    }
   },
   "outputs": [
    {
     "output_type": "stream",
     "name": "stdout",
     "output_type": "stream",
     "text": [
      "+--------------+-----------------------+-------------+----------------------+--------------+-----------------------+-----------+---------+----------+----------+-----+----------------+-------+------+-----------+-----------+-------+-------+\n|Administrative|Administrative_Duration|Informational|Informational_Duration|ProductRelated|ProductRelated_Duration|BounceRates|ExitRates|PageValues|SpecialDay|Month|OperatingSystems|Browser|Region|TrafficType|VisitorType|Weekend|Revenue|\n+--------------+-----------------------+-------------+----------------------+--------------+-----------------------+-----------+---------+----------+----------+-----+----------------+-------+------+-----------+-----------+-------+-------+\n|            14|                     14|           14|                    14|            14|                     14|         14|       14|         0|         0|    0|               0|      0|     0|          0|          0|      0|      0|\n+--------------+-----------------------+-------------+----------------------+--------------+-----------------------+-----------+---------+----------+----------+-----+----------------+-------+------+-----------+-----------+-------+-------+\n\n"
     ]
    }
   ],
   "source": [
    "from pyspark.sql.functions import *\n",
    "df.select([count(when(isnull(col), col)).alias(col) for col in df.columns]).show()"
   ]
  },
  {
   "cell_type": "code",
   "execution_count": 0,
   "metadata": {
    "application/vnd.databricks.v1+cell": {
     "cellMetadata": {
      "byteLimit": 2048000,
      "rowLimit": 10000
     },
     "inputWidgets": {},
     "nuid": "bcb2f23c-be61-49f0-983c-3292b2f56512",
     "showTitle": false,
     "title": ""
    }
   },
   "outputs": [],
   "source": [
    "df = df.na.drop()"
   ]
  },
  {
   "cell_type": "code",
   "execution_count": 0,
   "metadata": {
    "application/vnd.databricks.v1+cell": {
     "cellMetadata": {
      "byteLimit": 2048000,
      "rowLimit": 10000
     },
     "inputWidgets": {},
     "nuid": "594a60ea-a637-4353-b062-7e992d04d075",
     "showTitle": false,
     "title": ""
    }
   },
   "outputs": [
    {
     "output_type": "stream",
     "name": "stdout",
     "output_type": "stream",
     "text": [
      "+--------------+-----------------------+-------------+----------------------+--------------+-----------------------+-----------+---------+----------+----------+-----+----------------+-------+------+-----------+-----------+-------+-------+\n|Administrative|Administrative_Duration|Informational|Informational_Duration|ProductRelated|ProductRelated_Duration|BounceRates|ExitRates|PageValues|SpecialDay|Month|OperatingSystems|Browser|Region|TrafficType|VisitorType|Weekend|Revenue|\n+--------------+-----------------------+-------------+----------------------+--------------+-----------------------+-----------+---------+----------+----------+-----+----------------+-------+------+-----------+-----------+-------+-------+\n|             0|                      0|            0|                     0|             0|                      0|          0|        0|         0|         0|    0|               0|      0|     0|          0|          0|      0|      0|\n+--------------+-----------------------+-------------+----------------------+--------------+-----------------------+-----------+---------+----------+----------+-----+----------------+-------+------+-----------+-----------+-------+-------+\n\n"
     ]
    }
   ],
   "source": [
    "from pyspark.sql.functions import *\n",
    "df.select([count(when(isnull(col), col)).alias(col) for col in df.columns]).show()"
   ]
  },
  {
   "cell_type": "code",
   "execution_count": 0,
   "metadata": {
    "application/vnd.databricks.v1+cell": {
     "cellMetadata": {
      "byteLimit": 2048000,
      "rowLimit": 10000
     },
     "inputWidgets": {},
     "nuid": "4804fde3-86cd-4a5a-ab94-5dbbaa5fe88e",
     "showTitle": false,
     "title": ""
    }
   },
   "outputs": [],
   "source": [
    "df = df.dropDuplicates()"
   ]
  },
  {
   "cell_type": "code",
   "execution_count": 0,
   "metadata": {
    "application/vnd.databricks.v1+cell": {
     "cellMetadata": {
      "byteLimit": 2048000,
      "rowLimit": 10000
     },
     "inputWidgets": {},
     "nuid": "a4d3547c-e826-40ac-ba98-0b2b94eb760a",
     "showTitle": false,
     "title": ""
    }
   },
   "outputs": [
    {
     "output_type": "stream",
     "name": "stdout",
     "output_type": "stream",
     "text": [
      "+--------------+-----------------------+-------------+----------------------+--------------+-----------------------+-----------+-----------+-----------+----------+-----+----------------+-------+------+-----------+-----------------+-------+-------+\n|Administrative|Administrative_Duration|Informational|Informational_Duration|ProductRelated|ProductRelated_Duration|BounceRates|  ExitRates| PageValues|SpecialDay|Month|OperatingSystems|Browser|Region|TrafficType|      VisitorType|Weekend|Revenue|\n+--------------+-----------------------+-------------+----------------------+--------------+-----------------------+-----------+-----------+-----------+----------+-----+----------------+-------+------+-----------+-----------------+-------+-------+\n|             2|                    2.0|            3|                 261.0|            10|                  281.0|        0.0|0.042857143|        0.0|       0.0|  Mar|               2|      2|     1|          2|Returning_Visitor|  false|  false|\n|             0|                    0.0|            1|                   0.0|             1|                   13.0|        0.0|        0.1|        0.0|       0.0|  Mar|               3|      2|     3|          1|Returning_Visitor|  false|  false|\n|             0|                    0.0|            2|                  39.0|            15|                  245.0|        0.0|     0.0125| 11.9955404|       0.0|  Mar|               2|      2|     1|          3|Returning_Visitor|   true|   true|\n|             2|                   95.5|            0|                   0.0|            13|                  334.5|        0.0|0.002666667|        0.0|       0.0|  Mar|               3|      2|     1|          8|      New_Visitor|  false|  false|\n|             9|            110.4090909|            1|                  51.0|            62|            3120.211102|  5.6338E-4|0.017396907|7.891171006|       0.0|  Mar|               2|      2|     1|         10|Returning_Visitor|  false|  false|\n+--------------+-----------------------+-------------+----------------------+--------------+-----------------------+-----------+-----------+-----------+----------+-----+----------------+-------+------+-----------+-----------------+-------+-------+\nonly showing top 5 rows\n\n"
     ]
    }
   ],
   "source": [
    "df.show(5)"
   ]
  },
  {
   "cell_type": "code",
   "execution_count": 0,
   "metadata": {
    "application/vnd.databricks.v1+cell": {
     "cellMetadata": {
      "byteLimit": 2048000,
      "rowLimit": 10000
     },
     "inputWidgets": {},
     "nuid": "e8e26ea1-777b-46ac-b9a2-db888e5f8af8",
     "showTitle": false,
     "title": ""
    }
   },
   "outputs": [
    {
     "output_type": "stream",
     "name": "stdout",
     "output_type": "stream",
     "text": [
      "+--------------+-----------------------+-------------+----------------------+--------------+-----------------------+-----------+-----------+-----------+----------+-----+----------------+-------+------+-----------+-----------------+-------+-------+-----------+\n|Administrative|Administrative_Duration|Informational|Informational_Duration|ProductRelated|ProductRelated_Duration|BounceRates|  ExitRates| PageValues|SpecialDay|Month|OperatingSystems|Browser|Region|TrafficType|      VisitorType|Weekend|Revenue|Month_index|\n+--------------+-----------------------+-------------+----------------------+--------------+-----------------------+-----------+-----------+-----------+----------+-----+----------------+-------+------+-----------+-----------------+-------+-------+-----------+\n|             2|                    2.0|            3|                 261.0|            10|                  281.0|        0.0|0.042857143|        0.0|       0.0|  Mar|               2|      2|     1|          2|Returning_Visitor|  false|  false|        2.0|\n|             0|                    0.0|            1|                   0.0|             1|                   13.0|        0.0|        0.1|        0.0|       0.0|  Mar|               3|      2|     3|          1|Returning_Visitor|  false|  false|        2.0|\n|             0|                    0.0|            2|                  39.0|            15|                  245.0|        0.0|     0.0125| 11.9955404|       0.0|  Mar|               2|      2|     1|          3|Returning_Visitor|   true|   true|        2.0|\n|             2|                   95.5|            0|                   0.0|            13|                  334.5|        0.0|0.002666667|        0.0|       0.0|  Mar|               3|      2|     1|          8|      New_Visitor|  false|  false|        2.0|\n|             9|            110.4090909|            1|                  51.0|            62|            3120.211102|  5.6338E-4|0.017396907|7.891171006|       0.0|  Mar|               2|      2|     1|         10|Returning_Visitor|  false|  false|        2.0|\n|            14|                  272.5|            2|                 52.25|            55|            1127.288305|   0.003125|0.014499164|        0.0|       0.0|  Mar|               3|      2|     7|          1|Returning_Visitor|  false|  false|        2.0|\n|             2|                   12.0|            0|                   0.0|            43|            2595.280952|0.009090909|0.025378788|        0.0|       0.0|  Mar|               2|      4|     7|          1|Returning_Visitor|  false|  false|        2.0|\n|             0|                    0.0|            0|                   0.0|             5|                   59.0|       0.08|       0.12|        0.0|       0.0|  Mar|               2|      2|     7|          1|Returning_Visitor|  false|  false|        2.0|\n|             0|                    0.0|            0|                   0.0|            59|                 3036.4|        0.0|0.021186441|        0.0|       0.0|  Mar|               2|      2|     6|         13|Returning_Visitor|   true|  false|        2.0|\n|             7|            213.3916667|            0|                   0.0|            32|            1350.391667|        0.0|0.017877551|        0.0|       0.0|  Mar|               2|      2|     1|          8|Returning_Visitor|   true|  false|        2.0|\n|             0|                    0.0|            0|                   0.0|             6|                  463.5|        0.0|0.033333333|        0.0|       0.0|  Mar|               2|      5|     1|          3|Returning_Visitor|  false|  false|        2.0|\n|             0|                    0.0|            1|                  48.0|            32|            1808.333333|       0.05|0.075208333|  12.484125|       0.4|  May|               3|      2|     8|          1|Returning_Visitor|  false|   true|        0.0|\n|             3|                 131.75|            0|                   0.0|            52|            1701.857143|     0.0032| 0.01918951|        0.0|       0.0|  May|               1|      1|     5|          1|Returning_Visitor|  false|  false|        0.0|\n|             0|                    0.0|            0|                   0.0|            24|            981.1666667|0.051388889|0.084722222|        0.0|       0.0|  May|               2|      2|     1|         11|Returning_Visitor|   true|  false|        0.0|\n|             0|                    0.0|            0|                   0.0|             2|                   25.0|        0.0|        0.1|        0.0|       0.0|  May|               2|      2|     1|          5|Returning_Visitor|   true|  false|        0.0|\n|             2|                   23.0|            0|                   0.0|            97|            1589.183333|0.008070175|0.014967419|        0.0|       0.0|  May|               2|      5|     1|          3|Returning_Visitor|  false|  false|        0.0|\n|             0|                    0.0|            0|                   0.0|             1|                    0.0|        0.2|        0.2|        0.0|       0.6|  May|               1|      2|     3|          2|Returning_Visitor|  false|  false|        0.0|\n|             0|                    0.0|            0|                   0.0|             2|                   55.0|        0.0|       0.05|        0.0|       0.4|  May|               3|      2|     1|         13|Returning_Visitor|  false|  false|        0.0|\n|             2|                   39.0|            0|                   0.0|             9|                  128.0|        0.0|0.018181818|        0.0|       0.0|  May|               2|      2|     1|          2|      New_Visitor|  false|  false|        0.0|\n|             0|                    0.0|            0|                   0.0|             3|                   78.0|        0.0|0.066666667|        0.0|       0.0|  Feb|               1|      2|     6|          6|Returning_Visitor|   true|  false|        9.0|\n+--------------+-----------------------+-------------+----------------------+--------------+-----------------------+-----------+-----------+-----------+----------+-----+----------------+-------+------+-----------+-----------------+-------+-------+-----------+\nonly showing top 20 rows\n\n"
     ]
    }
   ],
   "source": [
    "from pyspark.ml.feature import StringIndexer\n",
    "indexer = StringIndexer(inputCol='Month',outputCol='Month_index')\n",
    "# fit string indexer model on the dataframe\n",
    "df1 = indexer.fit(df).transform(df)\n",
    "df1.show()"
   ]
  },
  {
   "cell_type": "code",
   "execution_count": 0,
   "metadata": {
    "application/vnd.databricks.v1+cell": {
     "cellMetadata": {
      "byteLimit": 2048000,
      "rowLimit": 10000
     },
     "inputWidgets": {},
     "nuid": "ae034a4d-26f2-424c-af13-eb385fe1e3ca",
     "showTitle": false,
     "title": ""
    }
   },
   "outputs": [],
   "source": [
    "df2 = df1.drop('Month')"
   ]
  },
  {
   "cell_type": "code",
   "execution_count": 0,
   "metadata": {
    "application/vnd.databricks.v1+cell": {
     "cellMetadata": {
      "byteLimit": 2048000,
      "rowLimit": 10000
     },
     "inputWidgets": {},
     "nuid": "28a9045b-eb17-4721-b90f-d7667cdb9522",
     "showTitle": false,
     "title": ""
    }
   },
   "outputs": [
    {
     "output_type": "stream",
     "name": "stdout",
     "output_type": "stream",
     "text": [
      "+--------------+-----------------------+-------------+----------------------+--------------+-----------------------+-----------+-----------+-----------+----------+----------------+-------+------+-----------+-----------------+-------+-------+-----------+\n|Administrative|Administrative_Duration|Informational|Informational_Duration|ProductRelated|ProductRelated_Duration|BounceRates|  ExitRates| PageValues|SpecialDay|OperatingSystems|Browser|Region|TrafficType|      VisitorType|Weekend|Revenue|Month_index|\n+--------------+-----------------------+-------------+----------------------+--------------+-----------------------+-----------+-----------+-----------+----------+----------------+-------+------+-----------+-----------------+-------+-------+-----------+\n|             2|                    2.0|            3|                 261.0|            10|                  281.0|        0.0|0.042857143|        0.0|       0.0|               2|      2|     1|          2|Returning_Visitor|  false|  false|        2.0|\n|             0|                    0.0|            1|                   0.0|             1|                   13.0|        0.0|        0.1|        0.0|       0.0|               3|      2|     3|          1|Returning_Visitor|  false|  false|        2.0|\n|             0|                    0.0|            2|                  39.0|            15|                  245.0|        0.0|     0.0125| 11.9955404|       0.0|               2|      2|     1|          3|Returning_Visitor|   true|   true|        2.0|\n|             2|                   95.5|            0|                   0.0|            13|                  334.5|        0.0|0.002666667|        0.0|       0.0|               3|      2|     1|          8|      New_Visitor|  false|  false|        2.0|\n|             9|            110.4090909|            1|                  51.0|            62|            3120.211102|  5.6338E-4|0.017396907|7.891171006|       0.0|               2|      2|     1|         10|Returning_Visitor|  false|  false|        2.0|\n|            14|                  272.5|            2|                 52.25|            55|            1127.288305|   0.003125|0.014499164|        0.0|       0.0|               3|      2|     7|          1|Returning_Visitor|  false|  false|        2.0|\n|             2|                   12.0|            0|                   0.0|            43|            2595.280952|0.009090909|0.025378788|        0.0|       0.0|               2|      4|     7|          1|Returning_Visitor|  false|  false|        2.0|\n|             0|                    0.0|            0|                   0.0|             5|                   59.0|       0.08|       0.12|        0.0|       0.0|               2|      2|     7|          1|Returning_Visitor|  false|  false|        2.0|\n|             0|                    0.0|            0|                   0.0|            59|                 3036.4|        0.0|0.021186441|        0.0|       0.0|               2|      2|     6|         13|Returning_Visitor|   true|  false|        2.0|\n|             7|            213.3916667|            0|                   0.0|            32|            1350.391667|        0.0|0.017877551|        0.0|       0.0|               2|      2|     1|          8|Returning_Visitor|   true|  false|        2.0|\n|             0|                    0.0|            0|                   0.0|             6|                  463.5|        0.0|0.033333333|        0.0|       0.0|               2|      5|     1|          3|Returning_Visitor|  false|  false|        2.0|\n|             0|                    0.0|            1|                  48.0|            32|            1808.333333|       0.05|0.075208333|  12.484125|       0.4|               3|      2|     8|          1|Returning_Visitor|  false|   true|        0.0|\n|             3|                 131.75|            0|                   0.0|            52|            1701.857143|     0.0032| 0.01918951|        0.0|       0.0|               1|      1|     5|          1|Returning_Visitor|  false|  false|        0.0|\n|             0|                    0.0|            0|                   0.0|            24|            981.1666667|0.051388889|0.084722222|        0.0|       0.0|               2|      2|     1|         11|Returning_Visitor|   true|  false|        0.0|\n|             0|                    0.0|            0|                   0.0|             2|                   25.0|        0.0|        0.1|        0.0|       0.0|               2|      2|     1|          5|Returning_Visitor|   true|  false|        0.0|\n|             2|                   23.0|            0|                   0.0|            97|            1589.183333|0.008070175|0.014967419|        0.0|       0.0|               2|      5|     1|          3|Returning_Visitor|  false|  false|        0.0|\n|             0|                    0.0|            0|                   0.0|             1|                    0.0|        0.2|        0.2|        0.0|       0.6|               1|      2|     3|          2|Returning_Visitor|  false|  false|        0.0|\n|             0|                    0.0|            0|                   0.0|             2|                   55.0|        0.0|       0.05|        0.0|       0.4|               3|      2|     1|         13|Returning_Visitor|  false|  false|        0.0|\n|             2|                   39.0|            0|                   0.0|             9|                  128.0|        0.0|0.018181818|        0.0|       0.0|               2|      2|     1|          2|      New_Visitor|  false|  false|        0.0|\n|             0|                    0.0|            0|                   0.0|             3|                   78.0|        0.0|0.066666667|        0.0|       0.0|               1|      2|     6|          6|Returning_Visitor|   true|  false|        9.0|\n+--------------+-----------------------+-------------+----------------------+--------------+-----------------------+-----------+-----------+-----------+----------+----------------+-------+------+-----------+-----------------+-------+-------+-----------+\nonly showing top 20 rows\n\n"
     ]
    }
   ],
   "source": [
    "df2.show()"
   ]
  },
  {
   "cell_type": "code",
   "execution_count": 0,
   "metadata": {
    "application/vnd.databricks.v1+cell": {
     "cellMetadata": {
      "byteLimit": 2048000,
      "rowLimit": 10000
     },
     "inputWidgets": {},
     "nuid": "646259f9-9e6a-423f-8bf4-f32439ea9dbd",
     "showTitle": false,
     "title": ""
    }
   },
   "outputs": [],
   "source": [
    "df2.createOrReplaceTempView(\"shopper\")"
   ]
  },
  {
   "cell_type": "markdown",
   "metadata": {
    "application/vnd.databricks.v1+cell": {
     "cellMetadata": {},
     "inputWidgets": {},
     "nuid": "bfc762fe-6484-4f70-8c17-3251b92bd650",
     "showTitle": false,
     "title": ""
    }
   },
   "source": [
    " What is the percentage of visitors of each type who made a sale?"
   ]
  },
  {
   "cell_type": "code",
   "execution_count": 0,
   "metadata": {
    "application/vnd.databricks.v1+cell": {
     "cellMetadata": {
      "byteLimit": 2048000,
      "implicitDf": true,
      "rowLimit": 10000
     },
     "inputWidgets": {},
     "nuid": "56e36ea0-8b97-4f1c-a573-1a3c0eb552f6",
     "showTitle": false,
     "title": ""
    }
   },
   "outputs": [
    {
     "output_type": "display_data",
     "data": {
      "text/html": [
       "<style scoped>\n",
       "  .table-result-container {\n",
       "    max-height: 300px;\n",
       "    overflow: auto;\n",
       "  }\n",
       "  table, th, td {\n",
       "    border: 1px solid black;\n",
       "    border-collapse: collapse;\n",
       "  }\n",
       "  th, td {\n",
       "    padding: 5px;\n",
       "  }\n",
       "  th {\n",
       "    text-align: left;\n",
       "  }\n",
       "</style><div class='table-result-container'><table class='table-result'><thead style='background-color: white'><tr><th>VisitorType</th><th>SalePercentage</th></tr></thead><tbody><tr><td>New_Visitor</td><td>24.93</td></tr><tr><td>Other</td><td>19.75</td></tr><tr><td>Returning_Visitor</td><td>14.1</td></tr></tbody></table></div>"
      ]
     },
     "metadata": {
      "application/vnd.databricks.v1+output": {
       "addedWidgets": {},
       "aggData": [],
       "aggError": "",
       "aggOverflow": false,
       "aggSchema": [],
       "aggSeriesLimitReached": false,
       "aggType": "",
       "arguments": {},
       "columnCustomDisplayInfos": {},
       "data": [
        [
         "New_Visitor",
         24.93
        ],
        [
         "Other",
         19.75
        ],
        [
         "Returning_Visitor",
         14.1
        ]
       ],
       "datasetInfos": [],
       "dbfsResultPath": null,
       "isJsonSchema": true,
       "metadata": {
        "dataframeName": "_sqldf",
        "executionCount": 65
       },
       "overflow": false,
       "plotOptions": {
        "customPlotOptions": {},
        "displayType": "table",
        "pivotAggregation": null,
        "pivotColumns": null,
        "xColumns": null,
        "yColumns": null
       },
       "removedWidgets": [],
       "schema": [
        {
         "metadata": "{}",
         "name": "VisitorType",
         "type": "\"string\""
        },
        {
         "metadata": "{}",
         "name": "SalePercentage",
         "type": "\"double\""
        }
       ],
       "type": "table"
      }
     },
     "output_type": "display_data"
    }
   ],
   "source": [
    "%sql\n",
    "SELECT VisitorType, round((COUNT(CASE WHEN Revenue THEN 1 END) / COUNT(*) * 100),2) AS SalePercentage\n",
    "FROM shopper\n",
    "GROUP BY VisitorType"
   ]
  },
  {
   "cell_type": "markdown",
   "metadata": {
    "application/vnd.databricks.v1+cell": {
     "cellMetadata": {},
     "inputWidgets": {},
     "nuid": "1be853c5-cca6-4313-96b7-588bc98c1043",
     "showTitle": false,
     "title": ""
    }
   },
   "source": [
    "What is the percentage of sales made on weekends and weekdays?"
   ]
  },
  {
   "cell_type": "code",
   "execution_count": 0,
   "metadata": {
    "application/vnd.databricks.v1+cell": {
     "cellMetadata": {
      "byteLimit": 2048000,
      "implicitDf": true,
      "rowLimit": 10000
     },
     "inputWidgets": {},
     "nuid": "ea1d708d-626a-44a3-a78f-3a978cfa8087",
     "showTitle": false,
     "title": ""
    }
   },
   "outputs": [
    {
     "output_type": "display_data",
     "data": {
      "text/html": [
       "<style scoped>\n",
       "  .table-result-container {\n",
       "    max-height: 300px;\n",
       "    overflow: auto;\n",
       "  }\n",
       "  table, th, td {\n",
       "    border: 1px solid black;\n",
       "    border-collapse: collapse;\n",
       "  }\n",
       "  th, td {\n",
       "    padding: 5px;\n",
       "  }\n",
       "  th {\n",
       "    text-align: left;\n",
       "  }\n",
       "</style><div class='table-result-container'><table class='table-result'><thead style='background-color: white'><tr><th>Weekend</th><th>SalePercentage</th></tr></thead><tbody><tr><td>true</td><td>17.47</td></tr><tr><td>false</td><td>15.08</td></tr></tbody></table></div>"
      ]
     },
     "metadata": {
      "application/vnd.databricks.v1+output": {
       "addedWidgets": {},
       "aggData": [],
       "aggError": "",
       "aggOverflow": false,
       "aggSchema": [],
       "aggSeriesLimitReached": false,
       "aggType": "",
       "arguments": {},
       "columnCustomDisplayInfos": {},
       "data": [
        [
         true,
         17.47
        ],
        [
         false,
         15.08
        ]
       ],
       "datasetInfos": [],
       "dbfsResultPath": null,
       "isJsonSchema": true,
       "metadata": {
        "dataframeName": "_sqldf",
        "executionCount": 67
       },
       "overflow": false,
       "plotOptions": {
        "customPlotOptions": {},
        "displayType": "table",
        "pivotAggregation": null,
        "pivotColumns": null,
        "xColumns": null,
        "yColumns": null
       },
       "removedWidgets": [],
       "schema": [
        {
         "metadata": "{}",
         "name": "Weekend",
         "type": "\"boolean\""
        },
        {
         "metadata": "{}",
         "name": "SalePercentage",
         "type": "\"double\""
        }
       ],
       "type": "table"
      }
     },
     "output_type": "display_data"
    }
   ],
   "source": [
    "%sql\n",
    "SELECT Weekend, round((COUNT(CASE WHEN Revenue THEN 1 END) / COUNT(*) * 100),2) AS SalePercentage\n",
    "FROM shopper\n",
    "GROUP BY Weekend"
   ]
  },
  {
   "cell_type": "markdown",
   "metadata": {
    "application/vnd.databricks.v1+cell": {
     "cellMetadata": {},
     "inputWidgets": {},
     "nuid": "8fd2b1ec-9e71-454a-8c5d-bbe1e3c7efad",
     "showTitle": false,
     "title": ""
    }
   },
   "source": [
    "percentage sales in each month"
   ]
  },
  {
   "cell_type": "code",
   "execution_count": 0,
   "metadata": {
    "application/vnd.databricks.v1+cell": {
     "cellMetadata": {
      "byteLimit": 2048000,
      "implicitDf": true,
      "rowLimit": 10000
     },
     "inputWidgets": {},
     "nuid": "b2699914-2581-4d29-9976-a5a285be83ed",
     "showTitle": false,
     "title": ""
    }
   },
   "outputs": [
    {
     "output_type": "display_data",
     "data": {
      "text/html": [
       "<style scoped>\n",
       "  .table-result-container {\n",
       "    max-height: 300px;\n",
       "    overflow: auto;\n",
       "  }\n",
       "  table, th, td {\n",
       "    border: 1px solid black;\n",
       "    border-collapse: collapse;\n",
       "  }\n",
       "  th, td {\n",
       "    padding: 5px;\n",
       "  }\n",
       "  th {\n",
       "    text-align: left;\n",
       "  }\n",
       "</style><div class='table-result-container'><table class='table-result'><thead style='background-color: white'><tr><th>Month_index</th><th>SalePercentage</th></tr></thead><tbody><tr><td>8.0</td><td>10.18</td></tr><tr><td>0.0</td><td>10.97</td></tr><tr><td>7.0</td><td>15.28</td></tr><tr><td>1.0</td><td>25.48</td></tr><tr><td>4.0</td><td>20.95</td></tr><tr><td>3.0</td><td>12.66</td></tr><tr><td>2.0</td><td>10.36</td></tr><tr><td>6.0</td><td>17.55</td></tr><tr><td>5.0</td><td>19.2</td></tr><tr><td>9.0</td><td>1.65</td></tr></tbody></table></div>"
      ]
     },
     "metadata": {
      "application/vnd.databricks.v1+output": {
       "addedWidgets": {},
       "aggData": [],
       "aggError": "",
       "aggOverflow": false,
       "aggSchema": [],
       "aggSeriesLimitReached": false,
       "aggType": "",
       "arguments": {},
       "columnCustomDisplayInfos": {},
       "data": [
        [
         8.0,
         10.18
        ],
        [
         0.0,
         10.97
        ],
        [
         7.0,
         15.28
        ],
        [
         1.0,
         25.48
        ],
        [
         4.0,
         20.95
        ],
        [
         3.0,
         12.66
        ],
        [
         2.0,
         10.36
        ],
        [
         6.0,
         17.55
        ],
        [
         5.0,
         19.2
        ],
        [
         9.0,
         1.65
        ]
       ],
       "datasetInfos": [],
       "dbfsResultPath": null,
       "isJsonSchema": true,
       "metadata": {
        "dataframeName": "_sqldf",
        "executionCount": 69
       },
       "overflow": false,
       "plotOptions": {
        "customPlotOptions": {},
        "displayType": "table",
        "pivotAggregation": null,
        "pivotColumns": null,
        "xColumns": null,
        "yColumns": null
       },
       "removedWidgets": [],
       "schema": [
        {
         "metadata": "{\"ml_attr\":{\"vals\":[\"May\",\"Nov\",\"Mar\",\"Dec\",\"Oct\",\"Sep\",\"Aug\",\"Jul\",\"June\",\"Feb\"],\"type\":\"nominal\",\"name\":\"Month_index\"}}",
         "name": "Month_index",
         "type": "\"double\""
        },
        {
         "metadata": "{}",
         "name": "SalePercentage",
         "type": "\"double\""
        }
       ],
       "type": "table"
      }
     },
     "output_type": "display_data"
    }
   ],
   "source": [
    "%sql\n",
    "SELECT Month_index, round((COUNT(CASE WHEN Revenue THEN 1 END) / COUNT(*) * 100),2) AS SalePercentage\n",
    "FROM shopper\n",
    "GROUP BY Month_index"
   ]
  },
  {
   "cell_type": "code",
   "execution_count": 0,
   "metadata": {
    "application/vnd.databricks.v1+cell": {
     "cellMetadata": {
      "byteLimit": 2048000,
      "implicitDf": true,
      "rowLimit": 10000
     },
     "inputWidgets": {},
     "nuid": "e1223a5e-26f9-4176-b0c4-37f47e466515",
     "showTitle": false,
     "title": ""
    }
   },
   "outputs": [
    {
     "output_type": "stream",
     "name": "stdout",
     "output_type": "stream",
     "text": [
      "+-----------+\n|Month_index|\n+-----------+\n|        8.0|\n|        0.0|\n|        7.0|\n|        1.0|\n|        4.0|\n|        3.0|\n|        2.0|\n|        6.0|\n|        5.0|\n|        9.0|\n+-----------+\n\n"
     ]
    }
   ],
   "source": [
    "df2.select(\"Month_index\").distinct().show()"
   ]
  },
  {
   "cell_type": "markdown",
   "metadata": {
    "application/vnd.databricks.v1+cell": {
     "cellMetadata": {},
     "inputWidgets": {},
     "nuid": "2155d402-f062-4097-be0f-e510c8fdd4ce",
     "showTitle": false,
     "title": ""
    }
   },
   "source": [
    "What is the running total of sales for each visitor type over months\n",
    "\n"
   ]
  },
  {
   "cell_type": "code",
   "execution_count": 0,
   "metadata": {
    "application/vnd.databricks.v1+cell": {
     "cellMetadata": {
      "byteLimit": 2048000,
      "implicitDf": true,
      "rowLimit": 10000
     },
     "inputWidgets": {},
     "nuid": "ff92b2ae-c117-46d3-802f-732f0b5ac54a",
     "showTitle": false,
     "title": ""
    }
   },
   "outputs": [
    {
     "output_type": "display_data",
     "data": {
      "text/html": [
       "<style scoped>\n",
       "  .table-result-container {\n",
       "    max-height: 300px;\n",
       "    overflow: auto;\n",
       "  }\n",
       "  table, th, td {\n",
       "    border: 1px solid black;\n",
       "    border-collapse: collapse;\n",
       "  }\n",
       "  th, td {\n",
       "    padding: 5px;\n",
       "  }\n",
       "  th {\n",
       "    text-align: left;\n",
       "  }\n",
       "</style><div class='table-result-container'><table class='table-result'><thead style='background-color: white'><tr><th>VisitorType</th><th>Month_index</th><th>Sales</th><th>RunningTotal</th></tr></thead><tbody><tr><td>New_Visitor</td><td>0.0</td><td>88</td><td>88</td></tr><tr><td>New_Visitor</td><td>1.0</td><td>128</td><td>216</td></tr><tr><td>New_Visitor</td><td>2.0</td><td>36</td><td>252</td></tr><tr><td>New_Visitor</td><td>3.0</td><td>75</td><td>327</td></tr><tr><td>New_Visitor</td><td>4.0</td><td>28</td><td>355</td></tr><tr><td>New_Visitor</td><td>5.0</td><td>28</td><td>383</td></tr><tr><td>New_Visitor</td><td>6.0</td><td>21</td><td>404</td></tr><tr><td>New_Visitor</td><td>7.0</td><td>11</td><td>415</td></tr><tr><td>New_Visitor</td><td>8.0</td><td>7</td><td>422</td></tr><tr><td>New_Visitor</td><td>9.0</td><td>0</td><td>422</td></tr><tr><td>Other</td><td>1.0</td><td>3</td><td>3</td></tr><tr><td>Other</td><td>3.0</td><td>13</td><td>16</td></tr><tr><td>Other</td><td>8.0</td><td>0</td><td>16</td></tr><tr><td>Returning_Visitor</td><td>0.0</td><td>277</td><td>277</td></tr><tr><td>Returning_Visitor</td><td>1.0</td><td>629</td><td>906</td></tr><tr><td>Returning_Visitor</td><td>2.0</td><td>156</td><td>1062</td></tr><tr><td>Returning_Visitor</td><td>3.0</td><td>128</td><td>1190</td></tr><tr><td>Returning_Visitor</td><td>4.0</td><td>87</td><td>1277</td></tr><tr><td>Returning_Visitor</td><td>5.0</td><td>58</td><td>1335</td></tr><tr><td>Returning_Visitor</td><td>6.0</td><td>55</td><td>1390</td></tr><tr><td>Returning_Visitor</td><td>7.0</td><td>55</td><td>1445</td></tr><tr><td>Returning_Visitor</td><td>8.0</td><td>22</td><td>1467</td></tr><tr><td>Returning_Visitor</td><td>9.0</td><td>3</td><td>1470</td></tr></tbody></table></div>"
      ]
     },
     "metadata": {
      "application/vnd.databricks.v1+output": {
       "addedWidgets": {},
       "aggData": [],
       "aggError": "",
       "aggOverflow": false,
       "aggSchema": [],
       "aggSeriesLimitReached": false,
       "aggType": "",
       "arguments": {},
       "columnCustomDisplayInfos": {},
       "data": [
        [
         "New_Visitor",
         0.0,
         88,
         88
        ],
        [
         "New_Visitor",
         1.0,
         128,
         216
        ],
        [
         "New_Visitor",
         2.0,
         36,
         252
        ],
        [
         "New_Visitor",
         3.0,
         75,
         327
        ],
        [
         "New_Visitor",
         4.0,
         28,
         355
        ],
        [
         "New_Visitor",
         5.0,
         28,
         383
        ],
        [
         "New_Visitor",
         6.0,
         21,
         404
        ],
        [
         "New_Visitor",
         7.0,
         11,
         415
        ],
        [
         "New_Visitor",
         8.0,
         7,
         422
        ],
        [
         "New_Visitor",
         9.0,
         0,
         422
        ],
        [
         "Other",
         1.0,
         3,
         3
        ],
        [
         "Other",
         3.0,
         13,
         16
        ],
        [
         "Other",
         8.0,
         0,
         16
        ],
        [
         "Returning_Visitor",
         0.0,
         277,
         277
        ],
        [
         "Returning_Visitor",
         1.0,
         629,
         906
        ],
        [
         "Returning_Visitor",
         2.0,
         156,
         1062
        ],
        [
         "Returning_Visitor",
         3.0,
         128,
         1190
        ],
        [
         "Returning_Visitor",
         4.0,
         87,
         1277
        ],
        [
         "Returning_Visitor",
         5.0,
         58,
         1335
        ],
        [
         "Returning_Visitor",
         6.0,
         55,
         1390
        ],
        [
         "Returning_Visitor",
         7.0,
         55,
         1445
        ],
        [
         "Returning_Visitor",
         8.0,
         22,
         1467
        ],
        [
         "Returning_Visitor",
         9.0,
         3,
         1470
        ]
       ],
       "datasetInfos": [],
       "dbfsResultPath": null,
       "isJsonSchema": true,
       "metadata": {
        "dataframeName": "_sqldf",
        "executionCount": 80
       },
       "overflow": false,
       "plotOptions": {
        "customPlotOptions": {},
        "displayType": "table",
        "pivotAggregation": null,
        "pivotColumns": null,
        "xColumns": null,
        "yColumns": null
       },
       "removedWidgets": [],
       "schema": [
        {
         "metadata": "{}",
         "name": "VisitorType",
         "type": "\"string\""
        },
        {
         "metadata": "{\"ml_attr\":{\"vals\":[\"May\",\"Nov\",\"Mar\",\"Dec\",\"Oct\",\"Sep\",\"Aug\",\"Jul\",\"June\",\"Feb\"],\"type\":\"nominal\",\"name\":\"Month_index\"}}",
         "name": "Month_index",
         "type": "\"double\""
        },
        {
         "metadata": "{}",
         "name": "Sales",
         "type": "\"long\""
        },
        {
         "metadata": "{}",
         "name": "RunningTotal",
         "type": "\"long\""
        }
       ],
       "type": "table"
      }
     },
     "output_type": "display_data"
    }
   ],
   "source": [
    "%sql\n",
    "WITH sales AS (\n",
    "  SELECT VisitorType, Month_index, COUNT(CASE WHEN Revenue THEN 1 END) AS Sales\n",
    "  FROM shopper\n",
    "  GROUP BY VisitorType, Month_index\n",
    ")\n",
    "SELECT *, SUM(Sales) OVER (PARTITION BY VisitorType ORDER BY Month_index) AS RunningTotal\n",
    "FROM sales\n",
    "ORDER BY VisitorType, Month_index;"
   ]
  },
  {
   "cell_type": "markdown",
   "metadata": {
    "application/vnd.databricks.v1+cell": {
     "cellMetadata": {},
     "inputWidgets": {},
     "nuid": "dfa96392-59f0-4fb0-abc8-b92154dbb0e1",
     "showTitle": false,
     "title": ""
    }
   },
   "source": [
    " What is the top 2 visitor types with the highest sales in each month?"
   ]
  },
  {
   "cell_type": "code",
   "execution_count": 0,
   "metadata": {
    "application/vnd.databricks.v1+cell": {
     "cellMetadata": {
      "byteLimit": 2048000,
      "implicitDf": true,
      "rowLimit": 10000
     },
     "inputWidgets": {},
     "nuid": "b52ef957-453f-4009-97d0-9bb6735ca794",
     "showTitle": false,
     "title": ""
    }
   },
   "outputs": [
    {
     "output_type": "display_data",
     "data": {
      "text/html": [
       "<style scoped>\n",
       "  .table-result-container {\n",
       "    max-height: 300px;\n",
       "    overflow: auto;\n",
       "  }\n",
       "  table, th, td {\n",
       "    border: 1px solid black;\n",
       "    border-collapse: collapse;\n",
       "  }\n",
       "  th, td {\n",
       "    padding: 5px;\n",
       "  }\n",
       "  th {\n",
       "    text-align: left;\n",
       "  }\n",
       "</style><div class='table-result-container'><table class='table-result'><thead style='background-color: white'><tr><th>VisitorType</th><th>Month_index</th><th>Sales</th><th>Rank</th></tr></thead><tbody><tr><td>Returning_Visitor</td><td>0.0</td><td>277</td><td>1</td></tr><tr><td>New_Visitor</td><td>0.0</td><td>88</td><td>2</td></tr><tr><td>Returning_Visitor</td><td>1.0</td><td>629</td><td>1</td></tr><tr><td>New_Visitor</td><td>1.0</td><td>128</td><td>2</td></tr><tr><td>Returning_Visitor</td><td>2.0</td><td>156</td><td>1</td></tr><tr><td>New_Visitor</td><td>2.0</td><td>36</td><td>2</td></tr><tr><td>Returning_Visitor</td><td>3.0</td><td>128</td><td>1</td></tr><tr><td>New_Visitor</td><td>3.0</td><td>75</td><td>2</td></tr><tr><td>Returning_Visitor</td><td>4.0</td><td>87</td><td>1</td></tr><tr><td>New_Visitor</td><td>4.0</td><td>28</td><td>2</td></tr><tr><td>Returning_Visitor</td><td>5.0</td><td>58</td><td>1</td></tr><tr><td>New_Visitor</td><td>5.0</td><td>28</td><td>2</td></tr><tr><td>Returning_Visitor</td><td>6.0</td><td>55</td><td>1</td></tr><tr><td>New_Visitor</td><td>6.0</td><td>21</td><td>2</td></tr><tr><td>Returning_Visitor</td><td>7.0</td><td>55</td><td>1</td></tr><tr><td>New_Visitor</td><td>7.0</td><td>11</td><td>2</td></tr><tr><td>Returning_Visitor</td><td>8.0</td><td>22</td><td>1</td></tr><tr><td>New_Visitor</td><td>8.0</td><td>7</td><td>2</td></tr><tr><td>Returning_Visitor</td><td>9.0</td><td>3</td><td>1</td></tr><tr><td>New_Visitor</td><td>9.0</td><td>0</td><td>2</td></tr></tbody></table></div>"
      ]
     },
     "metadata": {
      "application/vnd.databricks.v1+output": {
       "addedWidgets": {},
       "aggData": [],
       "aggError": "",
       "aggOverflow": false,
       "aggSchema": [],
       "aggSeriesLimitReached": false,
       "aggType": "",
       "arguments": {},
       "columnCustomDisplayInfos": {},
       "data": [
        [
         "Returning_Visitor",
         0.0,
         277,
         1
        ],
        [
         "New_Visitor",
         0.0,
         88,
         2
        ],
        [
         "Returning_Visitor",
         1.0,
         629,
         1
        ],
        [
         "New_Visitor",
         1.0,
         128,
         2
        ],
        [
         "Returning_Visitor",
         2.0,
         156,
         1
        ],
        [
         "New_Visitor",
         2.0,
         36,
         2
        ],
        [
         "Returning_Visitor",
         3.0,
         128,
         1
        ],
        [
         "New_Visitor",
         3.0,
         75,
         2
        ],
        [
         "Returning_Visitor",
         4.0,
         87,
         1
        ],
        [
         "New_Visitor",
         4.0,
         28,
         2
        ],
        [
         "Returning_Visitor",
         5.0,
         58,
         1
        ],
        [
         "New_Visitor",
         5.0,
         28,
         2
        ],
        [
         "Returning_Visitor",
         6.0,
         55,
         1
        ],
        [
         "New_Visitor",
         6.0,
         21,
         2
        ],
        [
         "Returning_Visitor",
         7.0,
         55,
         1
        ],
        [
         "New_Visitor",
         7.0,
         11,
         2
        ],
        [
         "Returning_Visitor",
         8.0,
         22,
         1
        ],
        [
         "New_Visitor",
         8.0,
         7,
         2
        ],
        [
         "Returning_Visitor",
         9.0,
         3,
         1
        ],
        [
         "New_Visitor",
         9.0,
         0,
         2
        ]
       ],
       "datasetInfos": [],
       "dbfsResultPath": null,
       "isJsonSchema": true,
       "metadata": {
        "dataframeName": "_sqldf",
        "executionCount": 81
       },
       "overflow": false,
       "plotOptions": {
        "customPlotOptions": {},
        "displayType": "table",
        "pivotAggregation": null,
        "pivotColumns": null,
        "xColumns": null,
        "yColumns": null
       },
       "removedWidgets": [],
       "schema": [
        {
         "metadata": "{}",
         "name": "VisitorType",
         "type": "\"string\""
        },
        {
         "metadata": "{\"ml_attr\":{\"vals\":[\"May\",\"Nov\",\"Mar\",\"Dec\",\"Oct\",\"Sep\",\"Aug\",\"Jul\",\"June\",\"Feb\"],\"type\":\"nominal\",\"name\":\"Month_index\"}}",
         "name": "Month_index",
         "type": "\"double\""
        },
        {
         "metadata": "{}",
         "name": "Sales",
         "type": "\"long\""
        },
        {
         "metadata": "{}",
         "name": "Rank",
         "type": "\"integer\""
        }
       ],
       "type": "table"
      }
     },
     "output_type": "display_data"
    }
   ],
   "source": [
    "%sql\n",
    "WITH sales AS (\n",
    "  SELECT VisitorType, Month_index, COUNT(CASE WHEN Revenue THEN 1 END) AS Sales\n",
    "  FROM shopper\n",
    "  GROUP BY VisitorType, Month_index\n",
    "),\n",
    "ranked_sales AS (\n",
    "  SELECT *, RANK() OVER (PARTITION BY Month_index ORDER BY Sales DESC) AS Rank\n",
    "  FROM sales\n",
    ")\n",
    "SELECT *\n",
    "FROM ranked_sales\n",
    "WHERE Rank <= 2\n",
    "ORDER BY Month_index, Rank;"
   ]
  },
  {
   "cell_type": "code",
   "execution_count": 0,
   "metadata": {
    "application/vnd.databricks.v1+cell": {
     "cellMetadata": {
      "byteLimit": 2048000,
      "rowLimit": 10000
     },
     "inputWidgets": {},
     "nuid": "7e70bf73-7ee5-4e14-9a2f-03e99168d94a",
     "showTitle": false,
     "title": ""
    }
   },
   "outputs": [],
   "source": [
    "from pyspark.sql.functions import rand\n",
    "\n",
    "# Take a 30% random sample of the data\n",
    "sample_df = df2.sample(0.3, seed=42)"
   ]
  },
  {
   "cell_type": "code",
   "execution_count": 0,
   "metadata": {
    "application/vnd.databricks.v1+cell": {
     "cellMetadata": {
      "byteLimit": 2048000,
      "rowLimit": 10000
     },
     "inputWidgets": {},
     "nuid": "6627da33-0a74-421d-a3bc-cfee939a985a",
     "showTitle": false,
     "title": ""
    }
   },
   "outputs": [
    {
     "output_type": "stream",
     "name": "stdout",
     "output_type": "stream",
     "text": [
      "+--------------+-----------------------+-------------+----------------------+--------------+-----------------------+-----------+-----------+-----------+----------+----------------+-------+------+-----------+-----------------+-------+-------+-----------+\n|Administrative|Administrative_Duration|Informational|Informational_Duration|ProductRelated|ProductRelated_Duration|BounceRates|  ExitRates| PageValues|SpecialDay|OperatingSystems|Browser|Region|TrafficType|      VisitorType|Weekend|Revenue|Month_index|\n+--------------+-----------------------+-------------+----------------------+--------------+-----------------------+-----------+-----------+-----------+----------+----------------+-------+------+-----------+-----------------+-------+-------+-----------+\n|             2|                   95.5|            0|                   0.0|            13|                  334.5|        0.0|0.002666667|        0.0|       0.0|               3|      2|     1|          8|      New_Visitor|  false|  false|        2.0|\n|             0|                    0.0|            0|                   0.0|             5|                   59.0|       0.08|       0.12|        0.0|       0.0|               2|      2|     7|          1|Returning_Visitor|  false|  false|        2.0|\n|             0|                    0.0|            0|                   0.0|             1|                    0.0|        0.2|        0.2|        0.0|       0.6|               1|      2|     3|          2|Returning_Visitor|  false|  false|        0.0|\n|             2|                   39.0|            0|                   0.0|             9|                  128.0|        0.0|0.018181818|        0.0|       0.0|               2|      2|     1|          2|      New_Visitor|  false|  false|        0.0|\n|             0|                    0.0|            0|                   0.0|             2|                   30.4|        0.0|0.066666667|21.47899475|       0.0|               1|      8|     6|         20|Returning_Visitor|   true|   true|        4.0|\n|             0|                    0.0|            5|                 194.4|             8|                  197.9|0.036363636|0.054545455|        0.0|       0.0|               1|      1|     3|          4|Returning_Visitor|  false|   true|        6.0|\n|             7|                  236.4|            0|                   0.0|            14|                  341.7|0.059649123|0.084210526|        0.0|       0.0|               3|      2|     4|          3|Returning_Visitor|  false|  false|        8.0|\n|             4|                   72.5|            0|                   0.0|            95|            2354.979058| 0.00137457|0.005695387|5.214690992|       0.0|               3|      2|     1|          2|Returning_Visitor|   true|  false|        3.0|\n|             3|                   36.0|            2|                 763.0|             9|                  163.5|        0.0|0.014285714|        0.0|       0.0|               8|      2|     1|          2|      New_Visitor|  false|   true|        3.0|\n|             0|                    0.0|            0|                   0.0|            13|                  221.5|        0.0|0.020512821|        0.0|       0.0|               2|      2|     1|          2|      New_Visitor|  false|  false|        1.0|\n|             4|                   72.5|            0|                   0.0|            28|            1248.058333|  0.0140625|0.024479167|        0.0|       0.0|               2|      6|     4|          2|Returning_Visitor|  false|  false|        1.0|\n|             2|                  27.25|            0|                   0.0|             1|                   31.5|       0.05|0.066666667|        0.0|       0.0|               3|      2|     2|          3|Returning_Visitor|  false|   true|        3.0|\n|             1|                   10.5|            0|                   0.0|             7|                  525.0|        0.0| 0.00952381|        0.0|       0.0|               2|      4|     4|          8|Returning_Visitor|  false|  false|        2.0|\n|             0|                    0.0|            0|                   0.0|            20|                  447.5|       0.02|       0.04|        0.0|       0.0|               2|      2|     1|          1|Returning_Visitor|  false|  false|        2.0|\n|             0|                    0.0|            0|                   0.0|             9|                  125.0|        0.0|0.022222222|        0.0|       0.0|               2|      2|     3|          1|Returning_Visitor|  false|  false|        2.0|\n|             0|                    0.0|            0|                   0.0|             6|            227.3333333|        0.0|0.013333333|        0.0|       0.0|               3|      2|     3|          2|      New_Visitor|   true|  false|        0.0|\n|             8|                  364.5|            0|                   0.0|            26|                  783.5|0.007692308|0.013461538|        0.0|       0.0|               1|      2|     4|         15|Returning_Visitor|   true|  false|        0.0|\n|             0|                    0.0|            0|                   0.0|             5|            90.66666667|       0.04|       0.12|        0.0|       0.0|               2|      2|     6|          6|Returning_Visitor|  false|  false|        0.0|\n|             6|                   88.0|            0|                   0.0|            17|            538.9666667|        0.0|0.021929825|        0.0|       0.0|               2|      2|     5|          4|Returning_Visitor|  false|  false|        0.0|\n|             4|                  131.4|            0|                   0.0|             4|                  199.4|        0.0|      0.025|        0.0|       0.0|               2|      6|     3|          5|      New_Visitor|  false|  false|        6.0|\n+--------------+-----------------------+-------------+----------------------+--------------+-----------------------+-----------+-----------+-----------+----------+----------------+-------+------+-----------+-----------------+-------+-------+-----------+\nonly showing top 20 rows\n\n"
     ]
    }
   ],
   "source": [
    "sample_df.show()"
   ]
  },
  {
   "cell_type": "code",
   "execution_count": 0,
   "metadata": {
    "application/vnd.databricks.v1+cell": {
     "cellMetadata": {
      "byteLimit": 2048000,
      "rowLimit": 10000
     },
     "inputWidgets": {},
     "nuid": "bde06409-6121-4c7f-a9e4-c51f9d49468a",
     "showTitle": false,
     "title": ""
    }
   },
   "outputs": [],
   "source": [
    "sample_df.createOrReplaceTempView(\"shopper2\")"
   ]
  },
  {
   "cell_type": "markdown",
   "metadata": {
    "application/vnd.databricks.v1+cell": {
     "cellMetadata": {},
     "inputWidgets": {},
     "nuid": "cda701b7-4f75-402b-b74b-7e59f8db2828",
     "showTitle": false,
     "title": ""
    }
   },
   "source": [
    "find the average PageValues for each Region and VisitorType"
   ]
  },
  {
   "cell_type": "code",
   "execution_count": 0,
   "metadata": {
    "application/vnd.databricks.v1+cell": {
     "cellMetadata": {
      "byteLimit": 2048000,
      "implicitDf": true,
      "rowLimit": 10000
     },
     "inputWidgets": {},
     "nuid": "01830486-58da-49d0-9a1f-46a4a71a06bf",
     "showTitle": false,
     "title": ""
    }
   },
   "outputs": [
    {
     "output_type": "display_data",
     "data": {
      "text/html": [
       "<style scoped>\n",
       "  .table-result-container {\n",
       "    max-height: 300px;\n",
       "    overflow: auto;\n",
       "  }\n",
       "  table, th, td {\n",
       "    border: 1px solid black;\n",
       "    border-collapse: collapse;\n",
       "  }\n",
       "  th, td {\n",
       "    padding: 5px;\n",
       "  }\n",
       "  th {\n",
       "    text-align: left;\n",
       "  }\n",
       "</style><div class='table-result-container'><table class='table-result'><thead style='background-color: white'><tr><th>Region</th><th>VisitorType</th><th>avg_PageValues</th></tr></thead><tbody><tr><td>9</td><td>Other</td><td>55.263886483846136</td></tr><tr><td>9</td><td>New_Visitor</td><td>21.327086634799997</td></tr><tr><td>5</td><td>New_Visitor</td><td>14.510087527647055</td></tr><tr><td>1</td><td>New_Visitor</td><td>13.682096642674946</td></tr><tr><td>2</td><td>New_Visitor</td><td>12.613523106382983</td></tr></tbody></table></div>"
      ]
     },
     "metadata": {
      "application/vnd.databricks.v1+output": {
       "addedWidgets": {},
       "aggData": [],
       "aggError": "",
       "aggOverflow": false,
       "aggSchema": [],
       "aggSeriesLimitReached": false,
       "aggType": "",
       "arguments": {},
       "columnCustomDisplayInfos": {},
       "data": [
        [
         9,
         "Other",
         55.263886483846136
        ],
        [
         9,
         "New_Visitor",
         21.327086634799997
        ],
        [
         5,
         "New_Visitor",
         14.510087527647055
        ],
        [
         1,
         "New_Visitor",
         13.682096642674946
        ],
        [
         2,
         "New_Visitor",
         12.613523106382983
        ]
       ],
       "datasetInfos": [],
       "dbfsResultPath": null,
       "isJsonSchema": true,
       "metadata": {
        "dataframeName": "_sqldf",
        "executionCount": 86
       },
       "overflow": false,
       "plotOptions": {
        "customPlotOptions": {},
        "displayType": "table",
        "pivotAggregation": null,
        "pivotColumns": null,
        "xColumns": null,
        "yColumns": null
       },
       "removedWidgets": [],
       "schema": [
        {
         "metadata": "{}",
         "name": "Region",
         "type": "\"integer\""
        },
        {
         "metadata": "{}",
         "name": "VisitorType",
         "type": "\"string\""
        },
        {
         "metadata": "{}",
         "name": "avg_PageValues",
         "type": "\"double\""
        }
       ],
       "type": "table"
      }
     },
     "output_type": "display_data"
    }
   ],
   "source": [
    "%sql\n",
    "SELECT \n",
    "  a.Region, \n",
    "  a.VisitorType, \n",
    "  AVG(a.PageValues) AS avg_PageValues\n",
    "FROM \n",
    "  shopper2 a\n",
    "  JOIN shopper2 b ON a.Region = b.Region AND a.VisitorType = b.VisitorType\n",
    "GROUP BY \n",
    "  a.Region, \n",
    "  a.VisitorType\n",
    "ORDER BY \n",
    "  avg_PageValues DESC\n",
    "LIMIT 5;"
   ]
  },
  {
   "cell_type": "code",
   "execution_count": 0,
   "metadata": {
    "application/vnd.databricks.v1+cell": {
     "cellMetadata": {
      "byteLimit": 2048000,
      "rowLimit": 10000
     },
     "inputWidgets": {},
     "nuid": "b4eb2693-7723-48d7-9028-57d3c884cec6",
     "showTitle": false,
     "title": ""
    }
   },
   "outputs": [
    {
     "output_type": "display_data",
     "data": {
      "text/plain": [
       "12199"
      ]
     },
     "metadata": {},
     "output_type": "display_data"
    }
   ],
   "source": [
    "rowCount = df2.count()\n",
    "display(rowCount)"
   ]
  },
  {
   "cell_type": "code",
   "execution_count": 0,
   "metadata": {
    "application/vnd.databricks.v1+cell": {
     "cellMetadata": {
      "byteLimit": 2048000,
      "rowLimit": 10000
     },
     "inputWidgets": {},
     "nuid": "a2e9044b-6187-488e-a397-8161b89fa92d",
     "showTitle": false,
     "title": ""
    }
   },
   "outputs": [
    {
     "output_type": "display_data",
     "data": {
      "text/plain": [
       "3713"
      ]
     },
     "metadata": {},
     "output_type": "display_data"
    }
   ],
   "source": [
    "rowCount = sample_df.count()\n",
    "display(rowCount)"
   ]
  },
  {
   "cell_type": "code",
   "execution_count": 0,
   "metadata": {
    "application/vnd.databricks.v1+cell": {
     "cellMetadata": {
      "byteLimit": 2048000,
      "implicitDf": true,
      "rowLimit": 10000
     },
     "inputWidgets": {},
     "nuid": "3d8273ef-1cff-46cc-9a74-63dd2366dc66",
     "showTitle": false,
     "title": ""
    }
   },
   "outputs": [
    {
     "output_type": "display_data",
     "data": {
      "text/html": [
       "<style scoped>\n",
       "  .table-result-container {\n",
       "    max-height: 300px;\n",
       "    overflow: auto;\n",
       "  }\n",
       "  table, th, td {\n",
       "    border: 1px solid black;\n",
       "    border-collapse: collapse;\n",
       "  }\n",
       "  th, td {\n",
       "    padding: 5px;\n",
       "  }\n",
       "  th {\n",
       "    text-align: left;\n",
       "  }\n",
       "</style><div class='table-result-container'><table class='table-result'><thead style='background-color: white'><tr><th>count(1)</th></tr></thead><tbody><tr><td>12199</td></tr></tbody></table></div>"
      ]
     },
     "metadata": {
      "application/vnd.databricks.v1+output": {
       "addedWidgets": {},
       "aggData": [],
       "aggError": "",
       "aggOverflow": false,
       "aggSchema": [],
       "aggSeriesLimitReached": false,
       "aggType": "",
       "arguments": {},
       "columnCustomDisplayInfos": {},
       "data": [
        [
         12199
        ]
       ],
       "datasetInfos": [],
       "dbfsResultPath": null,
       "isJsonSchema": true,
       "metadata": {
        "dataframeName": "_sqldf",
        "executionCount": 94
       },
       "overflow": false,
       "plotOptions": {
        "customPlotOptions": {},
        "displayType": "table",
        "pivotAggregation": null,
        "pivotColumns": null,
        "xColumns": null,
        "yColumns": null
       },
       "removedWidgets": [],
       "schema": [
        {
         "metadata": "{\"__autoGeneratedAlias\":\"true\"}",
         "name": "count(1)",
         "type": "\"long\""
        }
       ],
       "type": "table"
      }
     },
     "output_type": "display_data"
    }
   ],
   "source": [
    "%sql\n",
    "WITH merged AS (\n",
    "  SELECT * FROM shopper2\n",
    "  UNION\n",
    "  SELECT * FROM shopper\n",
    ")\n",
    "SELECT count(*) FROM merged;"
   ]
  },
  {
   "cell_type": "code",
   "execution_count": 0,
   "metadata": {
    "application/vnd.databricks.v1+cell": {
     "cellMetadata": {},
     "inputWidgets": {},
     "nuid": "d4e345b3-afb5-41c2-b92d-5c6888321bb0",
     "showTitle": false,
     "title": ""
    }
   },
   "outputs": [],
   "source": []
  }
 ],
 "metadata": {
  "application/vnd.databricks.v1+notebook": {
   "dashboards": [],
   "environmentMetadata": null,
   "language": "python",
   "notebookMetadata": {
    "mostRecentlyExecutedCommandWithImplicitDF": {
     "commandId": 2990131322070026,
     "dataframes": [
      "_sqldf"
     ]
    },
    "pythonIndentUnit": 4
   },
   "notebookName": "DataEngineering",
   "widgets": {}
  }
 },
 "nbformat": 4,
 "nbformat_minor": 0
}
